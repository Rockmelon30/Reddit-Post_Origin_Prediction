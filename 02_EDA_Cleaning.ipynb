{
 "cells": [
  {
   "cell_type": "markdown",
   "id": "cc8cf826-de15-4350-bd08-50f20383e965",
   "metadata": {},
   "source": [
    "# EDA and Cleaning"
   ]
  },
  {
   "cell_type": "code",
   "execution_count": 115,
   "id": "260032f8-54d1-4a1d-b40d-cd98ae025fd0",
   "metadata": {
    "jupyter": {
     "source_hidden": true
    }
   },
   "outputs": [],
   "source": [
    "import numpy as np\n",
    "import pandas as pd\n",
    "import matplotlib.pyplot as plt\n",
    "\n",
    "from sklearn.model_selection import train_test_split\n",
    "from sklearn.pipeline import Pipeline\n",
    "from sklearn.linear_model import LogisticRegression\n",
    "from sklearn import metrics\n",
    "from sklearn.feature_extraction.text import CountVectorizer, TfidfVectorizer\n",
    "from nltk.tokenize import word_tokenize, sent_tokenize, RegexpTokenizer\n",
    "from nltk.corpus import stopwords, wordnet\n",
    "from nltk.stem import PorterStemmer, WordNetLemmatizer\n",
    "from sklearn.naive_bayes import MultinomialNB"
   ]
  },
  {
   "cell_type": "code",
   "execution_count": 116,
   "id": "3750373c-0e41-4761-8663-2035b5414268",
   "metadata": {},
   "outputs": [],
   "source": [
    "# Importing my 01_Scraping notebook files\n",
    "\n",
    "fitness1 = pd.read_csv('Data/fitness_scrape_1.csv')\n",
    "fitness2 = pd.read_csv('Data/fitness_scrape_2.csv')\n",
    "fitness3 = pd.read_csv('Data/fitness_scrape_3.csv')\n",
    "fitnessmonth = pd.read_csv('Data/fitness_scrape_month.csv')\n",
    "fitnessyear = pd.read_csv('Data/fitness_scrape_year.csv')\n",
    "fitnessnew = pd.read_csv('Data/fitness_scrape_new.csv')\n",
    "fitnesscontroversial = pd.read_csv('Data/fitness_scrape_controversial.csv')"
   ]
  },
  {
   "cell_type": "code",
   "execution_count": 117,
   "id": "6b65edcb-f816-49bc-ab8e-45fb7fd97927",
   "metadata": {},
   "outputs": [],
   "source": [
    "nutrition1 = pd.read_csv('Data/nutrition_scrape_1.csv')\n",
    "nutrition2 = pd.read_csv('Data/nutrition_scrape_2.csv')\n",
    "nutrition3 = pd.read_csv('Data/nutrition_scrape_3.csv')\n",
    "nutritionmonth = pd.read_csv('Data/nutrition_scrape_month.csv')\n",
    "nutritionyear = pd.read_csv('Data/nutrition_scrape_year.csv')\n",
    "nutritionnew = pd.read_csv('Data/nutrition_scrape_new.csv')\n",
    "nutritioncontroversial = pd.read_csv('Data/nutrition_scrape_controversial.csv')"
   ]
  },
  {
   "cell_type": "code",
   "execution_count": 118,
   "id": "8b31e74d-5383-492e-a352-0aa29b3d0a4d",
   "metadata": {},
   "outputs": [],
   "source": [
    "# combined fitness and nutrition scrapes\n",
    "# I decided to only use one of my 'top' scrapes, because after accidentally overwriting my original scrapes, the three after were too similar.\n",
    "fitness = pd.concat([fitness3, fitnessmonth, fitnessyear, fitnessnew, fitnesscontroversial])\n",
    "nutrition = pd.concat([nutrition3, nutritionmonth, nutritionyear, nutritionnew, nutritioncontroversial])"
   ]
  },
  {
   "cell_type": "code",
   "execution_count": 119,
   "id": "521239b6-9484-4b3d-8579-ab277f822045",
   "metadata": {},
   "outputs": [],
   "source": [
    "# adding columns to my dataframes that shows the subreddit of origin for use as my y variable during modeling and predicting\n",
    "fitness['subreddit'] = 'fitness'\n",
    "nutrition['subreddit'] = 'nutrition'"
   ]
  },
  {
   "cell_type": "code",
   "execution_count": 120,
   "id": "03ce2aef-40f3-4a20-9f4c-771e53e2f476",
   "metadata": {},
   "outputs": [
    {
     "data": {
      "text/html": [
       "<div>\n",
       "<style scoped>\n",
       "    .dataframe tbody tr th:only-of-type {\n",
       "        vertical-align: middle;\n",
       "    }\n",
       "\n",
       "    .dataframe tbody tr th {\n",
       "        vertical-align: top;\n",
       "    }\n",
       "\n",
       "    .dataframe thead th {\n",
       "        text-align: right;\n",
       "    }\n",
       "</style>\n",
       "<table border=\"1\" class=\"dataframe\">\n",
       "  <thead>\n",
       "    <tr style=\"text-align: right;\">\n",
       "      <th></th>\n",
       "      <th>Title</th>\n",
       "      <th>ID</th>\n",
       "      <th>Author</th>\n",
       "      <th>URL</th>\n",
       "      <th>Score</th>\n",
       "      <th>Comment Count</th>\n",
       "      <th>Created</th>\n",
       "      <th>subreddit</th>\n",
       "    </tr>\n",
       "  </thead>\n",
       "  <tbody>\n",
       "    <tr>\n",
       "      <th>0</th>\n",
       "      <td>Things I Wish I Knew 8 Years Ago</td>\n",
       "      <td>4pl3yc</td>\n",
       "      <td>iamaliftaholic</td>\n",
       "      <td>https://www.reddit.com/r/Fitness/comments/4pl3...</td>\n",
       "      <td>19495</td>\n",
       "      <td>655</td>\n",
       "      <td>1.466744e+09</td>\n",
       "      <td>fitness</td>\n",
       "    </tr>\n",
       "    <tr>\n",
       "      <th>1</th>\n",
       "      <td>How to do PULL UPS properly and how to do your...</td>\n",
       "      <td>7ye7r2</td>\n",
       "      <td>Antranik</td>\n",
       "      <td>https://www.reddit.com/r/Fitness/comments/7ye7...</td>\n",
       "      <td>14127</td>\n",
       "      <td>516</td>\n",
       "      <td>1.518960e+09</td>\n",
       "      <td>fitness</td>\n",
       "    </tr>\n",
       "    <tr>\n",
       "      <th>2</th>\n",
       "      <td>We over at r/flexibility created a new full-bo...</td>\n",
       "      <td>92bhaj</td>\n",
       "      <td>tykato</td>\n",
       "      <td>https://www.reddit.com/r/Fitness/comments/92bh...</td>\n",
       "      <td>14059</td>\n",
       "      <td>329</td>\n",
       "      <td>1.532689e+09</td>\n",
       "      <td>fitness</td>\n",
       "    </tr>\n",
       "    <tr>\n",
       "      <th>3</th>\n",
       "      <td>Smoking increases risk of lung cancer 2,500%. ...</td>\n",
       "      <td>3qft9h</td>\n",
       "      <td>duffstoic</td>\n",
       "      <td>https://www.reddit.com/r/Fitness/comments/3qft...</td>\n",
       "      <td>13341</td>\n",
       "      <td>1216</td>\n",
       "      <td>1.445964e+09</td>\n",
       "      <td>fitness</td>\n",
       "    </tr>\n",
       "    <tr>\n",
       "      <th>4</th>\n",
       "      <td>Finally hit 213lbs lost, then got under 200lbs...</td>\n",
       "      <td>7nrqkz</td>\n",
       "      <td>abraxsis</td>\n",
       "      <td>https://www.reddit.com/r/Fitness/comments/7nrq...</td>\n",
       "      <td>12988</td>\n",
       "      <td>541</td>\n",
       "      <td>1.514948e+09</td>\n",
       "      <td>fitness</td>\n",
       "    </tr>\n",
       "  </tbody>\n",
       "</table>\n",
       "</div>"
      ],
      "text/plain": [
       "                                               Title      ID          Author  \\\n",
       "0                   Things I Wish I Knew 8 Years Ago  4pl3yc  iamaliftaholic   \n",
       "1  How to do PULL UPS properly and how to do your...  7ye7r2        Antranik   \n",
       "2  We over at r/flexibility created a new full-bo...  92bhaj          tykato   \n",
       "3  Smoking increases risk of lung cancer 2,500%. ...  3qft9h       duffstoic   \n",
       "4  Finally hit 213lbs lost, then got under 200lbs...  7nrqkz        abraxsis   \n",
       "\n",
       "                                                 URL  Score  Comment Count  \\\n",
       "0  https://www.reddit.com/r/Fitness/comments/4pl3...  19495            655   \n",
       "1  https://www.reddit.com/r/Fitness/comments/7ye7...  14127            516   \n",
       "2  https://www.reddit.com/r/Fitness/comments/92bh...  14059            329   \n",
       "3  https://www.reddit.com/r/Fitness/comments/3qft...  13341           1216   \n",
       "4  https://www.reddit.com/r/Fitness/comments/7nrq...  12988            541   \n",
       "\n",
       "        Created subreddit  \n",
       "0  1.466744e+09   fitness  \n",
       "1  1.518960e+09   fitness  \n",
       "2  1.532689e+09   fitness  \n",
       "3  1.445964e+09   fitness  \n",
       "4  1.514948e+09   fitness  "
      ]
     },
     "execution_count": 120,
     "metadata": {},
     "output_type": "execute_result"
    }
   ],
   "source": [
    "fitness.head()"
   ]
  },
  {
   "cell_type": "code",
   "execution_count": 121,
   "id": "9a28ac2b-d12b-42fa-acb2-af11708673c9",
   "metadata": {},
   "outputs": [
    {
     "data": {
      "text/plain": [
       "(3666, 8)"
      ]
     },
     "execution_count": 121,
     "metadata": {},
     "output_type": "execute_result"
    }
   ],
   "source": [
    "fitness.shape"
   ]
  },
  {
   "cell_type": "code",
   "execution_count": 122,
   "id": "6b06c93d-9907-4c12-863d-82bda344e21e",
   "metadata": {},
   "outputs": [
    {
     "data": {
      "text/plain": [
       "(4547, 8)"
      ]
     },
     "execution_count": 122,
     "metadata": {},
     "output_type": "execute_result"
    }
   ],
   "source": [
    "nutrition.shape"
   ]
  },
  {
   "cell_type": "code",
   "execution_count": 123,
   "id": "0cacf822-d04a-4bb5-b489-1dfda9b080d1",
   "metadata": {},
   "outputs": [],
   "source": [
    "lemmatizer = WordNetLemmatizer()\n",
    "stop_words = set(stopwords.words('english'))"
   ]
  },
  {
   "cell_type": "code",
   "execution_count": 124,
   "id": "93ce1581-abe0-4534-a429-8cfb1fe6cf5a",
   "metadata": {},
   "outputs": [],
   "source": [
    "# creating a function to create a new column based on my 'Title' column, but tokenized, \n",
    "# lowercase, removed punctuation, removed stop words and lemmatized\n",
    "def preprocess_text(text):\n",
    "    tokens = word_tokenize(text)\n",
    "    tokens = [token.lower() for token in tokens if token.isalpha()]\n",
    "    tokens = [lemmatizer.lemmatize(token) for token in tokens if token not in stop_words]\n",
    "    return tokens"
   ]
  },
  {
   "cell_type": "code",
   "execution_count": 125,
   "id": "1db740dc-06fd-4199-99c0-249d48a64f98",
   "metadata": {},
   "outputs": [],
   "source": [
    "fitness['processed_title'] = fitness['Title'].apply(preprocess_text)"
   ]
  },
  {
   "cell_type": "code",
   "execution_count": 126,
   "id": "62bc97d9-6a0e-45e4-be9a-1cb8aaccd695",
   "metadata": {},
   "outputs": [
    {
     "data": {
      "text/html": [
       "<div>\n",
       "<style scoped>\n",
       "    .dataframe tbody tr th:only-of-type {\n",
       "        vertical-align: middle;\n",
       "    }\n",
       "\n",
       "    .dataframe tbody tr th {\n",
       "        vertical-align: top;\n",
       "    }\n",
       "\n",
       "    .dataframe thead th {\n",
       "        text-align: right;\n",
       "    }\n",
       "</style>\n",
       "<table border=\"1\" class=\"dataframe\">\n",
       "  <thead>\n",
       "    <tr style=\"text-align: right;\">\n",
       "      <th></th>\n",
       "      <th>Title</th>\n",
       "      <th>ID</th>\n",
       "      <th>Author</th>\n",
       "      <th>URL</th>\n",
       "      <th>Score</th>\n",
       "      <th>Comment Count</th>\n",
       "      <th>Created</th>\n",
       "      <th>subreddit</th>\n",
       "      <th>processed_title</th>\n",
       "    </tr>\n",
       "  </thead>\n",
       "  <tbody>\n",
       "    <tr>\n",
       "      <th>0</th>\n",
       "      <td>Things I Wish I Knew 8 Years Ago</td>\n",
       "      <td>4pl3yc</td>\n",
       "      <td>iamaliftaholic</td>\n",
       "      <td>https://www.reddit.com/r/Fitness/comments/4pl3...</td>\n",
       "      <td>19495</td>\n",
       "      <td>655</td>\n",
       "      <td>1.466744e+09</td>\n",
       "      <td>fitness</td>\n",
       "      <td>[thing, wish, knew, year, ago]</td>\n",
       "    </tr>\n",
       "    <tr>\n",
       "      <th>1</th>\n",
       "      <td>How to do PULL UPS properly and how to do your...</td>\n",
       "      <td>7ye7r2</td>\n",
       "      <td>Antranik</td>\n",
       "      <td>https://www.reddit.com/r/Fitness/comments/7ye7...</td>\n",
       "      <td>14127</td>\n",
       "      <td>516</td>\n",
       "      <td>1.518960e+09</td>\n",
       "      <td>fitness</td>\n",
       "      <td>[pull, ups, properly, first, pullup, ca]</td>\n",
       "    </tr>\n",
       "    <tr>\n",
       "      <th>2</th>\n",
       "      <td>We over at r/flexibility created a new full-bo...</td>\n",
       "      <td>92bhaj</td>\n",
       "      <td>tykato</td>\n",
       "      <td>https://www.reddit.com/r/Fitness/comments/92bh...</td>\n",
       "      <td>14059</td>\n",
       "      <td>329</td>\n",
       "      <td>1.532689e+09</td>\n",
       "      <td>fitness</td>\n",
       "      <td>[created, new, stretching, routine, take, minu...</td>\n",
       "    </tr>\n",
       "    <tr>\n",
       "      <th>3</th>\n",
       "      <td>Smoking increases risk of lung cancer 2,500%. ...</td>\n",
       "      <td>3qft9h</td>\n",
       "      <td>duffstoic</td>\n",
       "      <td>https://www.reddit.com/r/Fitness/comments/3qft...</td>\n",
       "      <td>13341</td>\n",
       "      <td>1216</td>\n",
       "      <td>1.445964e+09</td>\n",
       "      <td>fitness</td>\n",
       "      <td>[smoking, increase, risk, lung, cancer, bacon,...</td>\n",
       "    </tr>\n",
       "    <tr>\n",
       "      <th>4</th>\n",
       "      <td>Finally hit 213lbs lost, then got under 200lbs...</td>\n",
       "      <td>7nrqkz</td>\n",
       "      <td>abraxsis</td>\n",
       "      <td>https://www.reddit.com/r/Fitness/comments/7nrq...</td>\n",
       "      <td>12988</td>\n",
       "      <td>541</td>\n",
       "      <td>1.514948e+09</td>\n",
       "      <td>fitness</td>\n",
       "      <td>[finally, hit, lost, got, square, inch, skin, ...</td>\n",
       "    </tr>\n",
       "  </tbody>\n",
       "</table>\n",
       "</div>"
      ],
      "text/plain": [
       "                                               Title      ID          Author  \\\n",
       "0                   Things I Wish I Knew 8 Years Ago  4pl3yc  iamaliftaholic   \n",
       "1  How to do PULL UPS properly and how to do your...  7ye7r2        Antranik   \n",
       "2  We over at r/flexibility created a new full-bo...  92bhaj          tykato   \n",
       "3  Smoking increases risk of lung cancer 2,500%. ...  3qft9h       duffstoic   \n",
       "4  Finally hit 213lbs lost, then got under 200lbs...  7nrqkz        abraxsis   \n",
       "\n",
       "                                                 URL  Score  Comment Count  \\\n",
       "0  https://www.reddit.com/r/Fitness/comments/4pl3...  19495            655   \n",
       "1  https://www.reddit.com/r/Fitness/comments/7ye7...  14127            516   \n",
       "2  https://www.reddit.com/r/Fitness/comments/92bh...  14059            329   \n",
       "3  https://www.reddit.com/r/Fitness/comments/3qft...  13341           1216   \n",
       "4  https://www.reddit.com/r/Fitness/comments/7nrq...  12988            541   \n",
       "\n",
       "        Created subreddit                                    processed_title  \n",
       "0  1.466744e+09   fitness                     [thing, wish, knew, year, ago]  \n",
       "1  1.518960e+09   fitness           [pull, ups, properly, first, pullup, ca]  \n",
       "2  1.532689e+09   fitness  [created, new, stretching, routine, take, minu...  \n",
       "3  1.445964e+09   fitness  [smoking, increase, risk, lung, cancer, bacon,...  \n",
       "4  1.514948e+09   fitness  [finally, hit, lost, got, square, inch, skin, ...  "
      ]
     },
     "execution_count": 126,
     "metadata": {},
     "output_type": "execute_result"
    }
   ],
   "source": [
    "fitness.head()"
   ]
  },
  {
   "cell_type": "code",
   "execution_count": 127,
   "id": "4d40ec34-30c4-4555-8554-97e4f946c470",
   "metadata": {},
   "outputs": [],
   "source": [
    "# creating yet another column that is a string of my tokens so I can use count vectorizer on them\n",
    "fitness['processed_title_joined'] = fitness['processed_title'].apply(lambda x: ' '.join(x))"
   ]
  },
  {
   "cell_type": "code",
   "execution_count": 128,
   "id": "ebfbd168-4c48-4cda-b7d1-608a4fc03875",
   "metadata": {},
   "outputs": [
    {
     "data": {
      "text/html": [
       "<div>\n",
       "<style scoped>\n",
       "    .dataframe tbody tr th:only-of-type {\n",
       "        vertical-align: middle;\n",
       "    }\n",
       "\n",
       "    .dataframe tbody tr th {\n",
       "        vertical-align: top;\n",
       "    }\n",
       "\n",
       "    .dataframe thead th {\n",
       "        text-align: right;\n",
       "    }\n",
       "</style>\n",
       "<table border=\"1\" class=\"dataframe\">\n",
       "  <thead>\n",
       "    <tr style=\"text-align: right;\">\n",
       "      <th></th>\n",
       "      <th>Title</th>\n",
       "      <th>ID</th>\n",
       "      <th>Author</th>\n",
       "      <th>URL</th>\n",
       "      <th>Score</th>\n",
       "      <th>Comment Count</th>\n",
       "      <th>Created</th>\n",
       "      <th>subreddit</th>\n",
       "      <th>processed_title</th>\n",
       "      <th>processed_title_joined</th>\n",
       "    </tr>\n",
       "  </thead>\n",
       "  <tbody>\n",
       "    <tr>\n",
       "      <th>0</th>\n",
       "      <td>Things I Wish I Knew 8 Years Ago</td>\n",
       "      <td>4pl3yc</td>\n",
       "      <td>iamaliftaholic</td>\n",
       "      <td>https://www.reddit.com/r/Fitness/comments/4pl3...</td>\n",
       "      <td>19495</td>\n",
       "      <td>655</td>\n",
       "      <td>1.466744e+09</td>\n",
       "      <td>fitness</td>\n",
       "      <td>[thing, wish, knew, year, ago]</td>\n",
       "      <td>thing wish knew year ago</td>\n",
       "    </tr>\n",
       "    <tr>\n",
       "      <th>1</th>\n",
       "      <td>How to do PULL UPS properly and how to do your...</td>\n",
       "      <td>7ye7r2</td>\n",
       "      <td>Antranik</td>\n",
       "      <td>https://www.reddit.com/r/Fitness/comments/7ye7...</td>\n",
       "      <td>14127</td>\n",
       "      <td>516</td>\n",
       "      <td>1.518960e+09</td>\n",
       "      <td>fitness</td>\n",
       "      <td>[pull, ups, properly, first, pullup, ca]</td>\n",
       "      <td>pull ups properly first pullup ca</td>\n",
       "    </tr>\n",
       "    <tr>\n",
       "      <th>2</th>\n",
       "      <td>We over at r/flexibility created a new full-bo...</td>\n",
       "      <td>92bhaj</td>\n",
       "      <td>tykato</td>\n",
       "      <td>https://www.reddit.com/r/Fitness/comments/92bh...</td>\n",
       "      <td>14059</td>\n",
       "      <td>329</td>\n",
       "      <td>1.532689e+09</td>\n",
       "      <td>fitness</td>\n",
       "      <td>[created, new, stretching, routine, take, minu...</td>\n",
       "      <td>created new stretching routine take minute inc...</td>\n",
       "    </tr>\n",
       "    <tr>\n",
       "      <th>3</th>\n",
       "      <td>Smoking increases risk of lung cancer 2,500%. ...</td>\n",
       "      <td>3qft9h</td>\n",
       "      <td>duffstoic</td>\n",
       "      <td>https://www.reddit.com/r/Fitness/comments/3qft...</td>\n",
       "      <td>13341</td>\n",
       "      <td>1216</td>\n",
       "      <td>1.445964e+09</td>\n",
       "      <td>fitness</td>\n",
       "      <td>[smoking, increase, risk, lung, cancer, bacon,...</td>\n",
       "      <td>smoking increase risk lung cancer bacon increa...</td>\n",
       "    </tr>\n",
       "    <tr>\n",
       "      <th>4</th>\n",
       "      <td>Finally hit 213lbs lost, then got under 200lbs...</td>\n",
       "      <td>7nrqkz</td>\n",
       "      <td>abraxsis</td>\n",
       "      <td>https://www.reddit.com/r/Fitness/comments/7nrq...</td>\n",
       "      <td>12988</td>\n",
       "      <td>541</td>\n",
       "      <td>1.514948e+09</td>\n",
       "      <td>fitness</td>\n",
       "      <td>[finally, hit, lost, got, square, inch, skin, ...</td>\n",
       "      <td>finally hit lost got square inch skin removed ...</td>\n",
       "    </tr>\n",
       "  </tbody>\n",
       "</table>\n",
       "</div>"
      ],
      "text/plain": [
       "                                               Title      ID          Author  \\\n",
       "0                   Things I Wish I Knew 8 Years Ago  4pl3yc  iamaliftaholic   \n",
       "1  How to do PULL UPS properly and how to do your...  7ye7r2        Antranik   \n",
       "2  We over at r/flexibility created a new full-bo...  92bhaj          tykato   \n",
       "3  Smoking increases risk of lung cancer 2,500%. ...  3qft9h       duffstoic   \n",
       "4  Finally hit 213lbs lost, then got under 200lbs...  7nrqkz        abraxsis   \n",
       "\n",
       "                                                 URL  Score  Comment Count  \\\n",
       "0  https://www.reddit.com/r/Fitness/comments/4pl3...  19495            655   \n",
       "1  https://www.reddit.com/r/Fitness/comments/7ye7...  14127            516   \n",
       "2  https://www.reddit.com/r/Fitness/comments/92bh...  14059            329   \n",
       "3  https://www.reddit.com/r/Fitness/comments/3qft...  13341           1216   \n",
       "4  https://www.reddit.com/r/Fitness/comments/7nrq...  12988            541   \n",
       "\n",
       "        Created subreddit                                    processed_title  \\\n",
       "0  1.466744e+09   fitness                     [thing, wish, knew, year, ago]   \n",
       "1  1.518960e+09   fitness           [pull, ups, properly, first, pullup, ca]   \n",
       "2  1.532689e+09   fitness  [created, new, stretching, routine, take, minu...   \n",
       "3  1.445964e+09   fitness  [smoking, increase, risk, lung, cancer, bacon,...   \n",
       "4  1.514948e+09   fitness  [finally, hit, lost, got, square, inch, skin, ...   \n",
       "\n",
       "                              processed_title_joined  \n",
       "0                           thing wish knew year ago  \n",
       "1                  pull ups properly first pullup ca  \n",
       "2  created new stretching routine take minute inc...  \n",
       "3  smoking increase risk lung cancer bacon increa...  \n",
       "4  finally hit lost got square inch skin removed ...  "
      ]
     },
     "execution_count": 128,
     "metadata": {},
     "output_type": "execute_result"
    }
   ],
   "source": [
    "fitness.head()"
   ]
  },
  {
   "cell_type": "code",
   "execution_count": 129,
   "id": "d2ca3409-e42f-4919-ac4c-451f745bc6c0",
   "metadata": {},
   "outputs": [],
   "source": [
    "nutrition['processed_title'] = nutrition['Title'].apply(preprocess_text)"
   ]
  },
  {
   "cell_type": "code",
   "execution_count": 130,
   "id": "d82d9161-6e20-4830-babe-5349c732e930",
   "metadata": {},
   "outputs": [],
   "source": [
    "# Creating yet another column that turns my list of tokens into a string for my models to use\n",
    "\n",
    "nutrition['processed_title_joined'] = nutrition['processed_title'].apply(lambda x: ' '.join(x))"
   ]
  },
  {
   "cell_type": "code",
   "execution_count": 131,
   "id": "bf073a3f-fc73-4533-afe1-2d13d644de3b",
   "metadata": {},
   "outputs": [
    {
     "data": {
      "text/html": [
       "<div>\n",
       "<style scoped>\n",
       "    .dataframe tbody tr th:only-of-type {\n",
       "        vertical-align: middle;\n",
       "    }\n",
       "\n",
       "    .dataframe tbody tr th {\n",
       "        vertical-align: top;\n",
       "    }\n",
       "\n",
       "    .dataframe thead th {\n",
       "        text-align: right;\n",
       "    }\n",
       "</style>\n",
       "<table border=\"1\" class=\"dataframe\">\n",
       "  <thead>\n",
       "    <tr style=\"text-align: right;\">\n",
       "      <th></th>\n",
       "      <th>Title</th>\n",
       "      <th>ID</th>\n",
       "      <th>Author</th>\n",
       "      <th>URL</th>\n",
       "      <th>Score</th>\n",
       "      <th>Comment Count</th>\n",
       "      <th>Created</th>\n",
       "      <th>subreddit</th>\n",
       "      <th>processed_title</th>\n",
       "      <th>processed_title_joined</th>\n",
       "    </tr>\n",
       "  </thead>\n",
       "  <tbody>\n",
       "    <tr>\n",
       "      <th>0</th>\n",
       "      <td>I think until basic nutrition is not taught in...</td>\n",
       "      <td>kw68ae</td>\n",
       "      <td>mayermail1977</td>\n",
       "      <td>https://www.reddit.com/r/nutrition/comments/kw...</td>\n",
       "      <td>2486</td>\n",
       "      <td>328</td>\n",
       "      <td>1.610503e+09</td>\n",
       "      <td>nutrition</td>\n",
       "      <td>[think, basic, nutrition, taught, school, obes...</td>\n",
       "      <td>think basic nutrition taught school obesity pu...</td>\n",
       "    </tr>\n",
       "    <tr>\n",
       "      <th>1</th>\n",
       "      <td>Ireland's Supreme Court Rules Sandwiches in Su...</td>\n",
       "      <td>j2npi7</td>\n",
       "      <td>Bluest_waters</td>\n",
       "      <td>https://www.reddit.com/r/nutrition/comments/j2...</td>\n",
       "      <td>2072</td>\n",
       "      <td>120</td>\n",
       "      <td>1.601478e+09</td>\n",
       "      <td>nutrition</td>\n",
       "      <td>[ireland, supreme, court, rule, sandwich, subw...</td>\n",
       "      <td>ireland supreme court rule sandwich subway sug...</td>\n",
       "    </tr>\n",
       "    <tr>\n",
       "      <th>2</th>\n",
       "      <td>A study on nutrients in food concluded that we...</td>\n",
       "      <td>uis73l</td>\n",
       "      <td>high_on_cosmos</td>\n",
       "      <td>https://www.reddit.com/r/nutrition/comments/ui...</td>\n",
       "      <td>1917</td>\n",
       "      <td>161</td>\n",
       "      <td>1.651736e+09</td>\n",
       "      <td>nutrition</td>\n",
       "      <td>[study, nutrient, food, concluded, would, eat,...</td>\n",
       "      <td>study nutrient food concluded would eat orange...</td>\n",
       "    </tr>\n",
       "    <tr>\n",
       "      <th>3</th>\n",
       "      <td>Just a reminder: Nutella is a garbage food.</td>\n",
       "      <td>bm4p24</td>\n",
       "      <td>imdjay</td>\n",
       "      <td>https://www.reddit.com/r/nutrition/comments/bm...</td>\n",
       "      <td>1727</td>\n",
       "      <td>271</td>\n",
       "      <td>1.557319e+09</td>\n",
       "      <td>nutrition</td>\n",
       "      <td>[reminder, nutella, garbage, food]</td>\n",
       "      <td>reminder nutella garbage food</td>\n",
       "    </tr>\n",
       "    <tr>\n",
       "      <th>4</th>\n",
       "      <td>Visualize your ancestors eating your food</td>\n",
       "      <td>ipw6xf</td>\n",
       "      <td>pbw</td>\n",
       "      <td>https://www.reddit.com/r/nutrition/comments/ip...</td>\n",
       "      <td>1597</td>\n",
       "      <td>104</td>\n",
       "      <td>1.599711e+09</td>\n",
       "      <td>nutrition</td>\n",
       "      <td>[visualize, ancestor, eating, food]</td>\n",
       "      <td>visualize ancestor eating food</td>\n",
       "    </tr>\n",
       "  </tbody>\n",
       "</table>\n",
       "</div>"
      ],
      "text/plain": [
       "                                               Title      ID          Author  \\\n",
       "0  I think until basic nutrition is not taught in...  kw68ae   mayermail1977   \n",
       "1  Ireland's Supreme Court Rules Sandwiches in Su...  j2npi7   Bluest_waters   \n",
       "2  A study on nutrients in food concluded that we...  uis73l  high_on_cosmos   \n",
       "3        Just a reminder: Nutella is a garbage food.  bm4p24          imdjay   \n",
       "4          Visualize your ancestors eating your food  ipw6xf             pbw   \n",
       "\n",
       "                                                 URL  Score  Comment Count  \\\n",
       "0  https://www.reddit.com/r/nutrition/comments/kw...   2486            328   \n",
       "1  https://www.reddit.com/r/nutrition/comments/j2...   2072            120   \n",
       "2  https://www.reddit.com/r/nutrition/comments/ui...   1917            161   \n",
       "3  https://www.reddit.com/r/nutrition/comments/bm...   1727            271   \n",
       "4  https://www.reddit.com/r/nutrition/comments/ip...   1597            104   \n",
       "\n",
       "        Created  subreddit                                    processed_title  \\\n",
       "0  1.610503e+09  nutrition  [think, basic, nutrition, taught, school, obes...   \n",
       "1  1.601478e+09  nutrition  [ireland, supreme, court, rule, sandwich, subw...   \n",
       "2  1.651736e+09  nutrition  [study, nutrient, food, concluded, would, eat,...   \n",
       "3  1.557319e+09  nutrition                 [reminder, nutella, garbage, food]   \n",
       "4  1.599711e+09  nutrition                [visualize, ancestor, eating, food]   \n",
       "\n",
       "                              processed_title_joined  \n",
       "0  think basic nutrition taught school obesity pu...  \n",
       "1  ireland supreme court rule sandwich subway sug...  \n",
       "2  study nutrient food concluded would eat orange...  \n",
       "3                      reminder nutella garbage food  \n",
       "4                     visualize ancestor eating food  "
      ]
     },
     "execution_count": 131,
     "metadata": {},
     "output_type": "execute_result"
    }
   ],
   "source": [
    "nutrition.head()"
   ]
  },
  {
   "cell_type": "code",
   "execution_count": 132,
   "id": "a098eb90-25f2-4daf-aaa2-cc158b6742a9",
   "metadata": {},
   "outputs": [],
   "source": [
    "cvec = CountVectorizer()"
   ]
  },
  {
   "cell_type": "code",
   "execution_count": 133,
   "id": "868eca8f-ba13-41d8-81fa-27928444e2c6",
   "metadata": {},
   "outputs": [
    {
     "data": {
      "text/html": [
       "<style>#sk-container-id-5 {color: black;background-color: white;}#sk-container-id-5 pre{padding: 0;}#sk-container-id-5 div.sk-toggleable {background-color: white;}#sk-container-id-5 label.sk-toggleable__label {cursor: pointer;display: block;width: 100%;margin-bottom: 0;padding: 0.3em;box-sizing: border-box;text-align: center;}#sk-container-id-5 label.sk-toggleable__label-arrow:before {content: \"▸\";float: left;margin-right: 0.25em;color: #696969;}#sk-container-id-5 label.sk-toggleable__label-arrow:hover:before {color: black;}#sk-container-id-5 div.sk-estimator:hover label.sk-toggleable__label-arrow:before {color: black;}#sk-container-id-5 div.sk-toggleable__content {max-height: 0;max-width: 0;overflow: hidden;text-align: left;background-color: #f0f8ff;}#sk-container-id-5 div.sk-toggleable__content pre {margin: 0.2em;color: black;border-radius: 0.25em;background-color: #f0f8ff;}#sk-container-id-5 input.sk-toggleable__control:checked~div.sk-toggleable__content {max-height: 200px;max-width: 100%;overflow: auto;}#sk-container-id-5 input.sk-toggleable__control:checked~label.sk-toggleable__label-arrow:before {content: \"▾\";}#sk-container-id-5 div.sk-estimator input.sk-toggleable__control:checked~label.sk-toggleable__label {background-color: #d4ebff;}#sk-container-id-5 div.sk-label input.sk-toggleable__control:checked~label.sk-toggleable__label {background-color: #d4ebff;}#sk-container-id-5 input.sk-hidden--visually {border: 0;clip: rect(1px 1px 1px 1px);clip: rect(1px, 1px, 1px, 1px);height: 1px;margin: -1px;overflow: hidden;padding: 0;position: absolute;width: 1px;}#sk-container-id-5 div.sk-estimator {font-family: monospace;background-color: #f0f8ff;border: 1px dotted black;border-radius: 0.25em;box-sizing: border-box;margin-bottom: 0.5em;}#sk-container-id-5 div.sk-estimator:hover {background-color: #d4ebff;}#sk-container-id-5 div.sk-parallel-item::after {content: \"\";width: 100%;border-bottom: 1px solid gray;flex-grow: 1;}#sk-container-id-5 div.sk-label:hover label.sk-toggleable__label {background-color: #d4ebff;}#sk-container-id-5 div.sk-serial::before {content: \"\";position: absolute;border-left: 1px solid gray;box-sizing: border-box;top: 0;bottom: 0;left: 50%;z-index: 0;}#sk-container-id-5 div.sk-serial {display: flex;flex-direction: column;align-items: center;background-color: white;padding-right: 0.2em;padding-left: 0.2em;position: relative;}#sk-container-id-5 div.sk-item {position: relative;z-index: 1;}#sk-container-id-5 div.sk-parallel {display: flex;align-items: stretch;justify-content: center;background-color: white;position: relative;}#sk-container-id-5 div.sk-item::before, #sk-container-id-5 div.sk-parallel-item::before {content: \"\";position: absolute;border-left: 1px solid gray;box-sizing: border-box;top: 0;bottom: 0;left: 50%;z-index: -1;}#sk-container-id-5 div.sk-parallel-item {display: flex;flex-direction: column;z-index: 1;position: relative;background-color: white;}#sk-container-id-5 div.sk-parallel-item:first-child::after {align-self: flex-end;width: 50%;}#sk-container-id-5 div.sk-parallel-item:last-child::after {align-self: flex-start;width: 50%;}#sk-container-id-5 div.sk-parallel-item:only-child::after {width: 0;}#sk-container-id-5 div.sk-dashed-wrapped {border: 1px dashed gray;margin: 0 0.4em 0.5em 0.4em;box-sizing: border-box;padding-bottom: 0.4em;background-color: white;}#sk-container-id-5 div.sk-label label {font-family: monospace;font-weight: bold;display: inline-block;line-height: 1.2em;}#sk-container-id-5 div.sk-label-container {text-align: center;}#sk-container-id-5 div.sk-container {/* jupyter's `normalize.less` sets `[hidden] { display: none; }` but bootstrap.min.css set `[hidden] { display: none !important; }` so we also need the `!important` here to be able to override the default hidden behavior on the sphinx rendered scikit-learn.org. See: https://github.com/scikit-learn/scikit-learn/issues/21755 */display: inline-block !important;position: relative;}#sk-container-id-5 div.sk-text-repr-fallback {display: none;}</style><div id=\"sk-container-id-5\" class=\"sk-top-container\"><div class=\"sk-text-repr-fallback\"><pre>CountVectorizer()</pre><b>In a Jupyter environment, please rerun this cell to show the HTML representation or trust the notebook. <br />On GitHub, the HTML representation is unable to render, please try loading this page with nbviewer.org.</b></div><div class=\"sk-container\" hidden><div class=\"sk-item\"><div class=\"sk-estimator sk-toggleable\"><input class=\"sk-toggleable__control sk-hidden--visually\" id=\"sk-estimator-id-5\" type=\"checkbox\" checked><label for=\"sk-estimator-id-5\" class=\"sk-toggleable__label sk-toggleable__label-arrow\">CountVectorizer</label><div class=\"sk-toggleable__content\"><pre>CountVectorizer()</pre></div></div></div></div></div>"
      ],
      "text/plain": [
       "CountVectorizer()"
      ]
     },
     "execution_count": 133,
     "metadata": {},
     "output_type": "execute_result"
    }
   ],
   "source": [
    "cvec.fit(fitness['processed_title_joined'])"
   ]
  },
  {
   "cell_type": "code",
   "execution_count": 134,
   "id": "db09fed1-beb7-4553-8f52-84d07f203054",
   "metadata": {},
   "outputs": [],
   "source": [
    "fitness_cvec = cvec.transform(fitness['processed_title_joined'])"
   ]
  },
  {
   "cell_type": "code",
   "execution_count": 135,
   "id": "35b166ab-8dc5-4539-a6e4-c47c695d0c86",
   "metadata": {},
   "outputs": [],
   "source": [
    "fitness_transformed = fitness_cvec.toarray()"
   ]
  },
  {
   "cell_type": "code",
   "execution_count": 136,
   "id": "dbc79873-2e85-4151-85ce-d0976be15069",
   "metadata": {},
   "outputs": [],
   "source": [
    "feature_names = cvec.get_feature_names_out()"
   ]
  },
  {
   "cell_type": "code",
   "execution_count": 137,
   "id": "12bb76cd-f9b1-4269-adfc-4b363974f7d4",
   "metadata": {},
   "outputs": [],
   "source": [
    "fitness_df = pd.DataFrame(fitness_transformed, columns=feature_names)"
   ]
  },
  {
   "cell_type": "code",
   "execution_count": 138,
   "id": "ace3da16-e7da-4beb-b92f-45b039df48f4",
   "metadata": {},
   "outputs": [
    {
     "data": {
      "text/plain": [
       "question     951\n",
       "thread       917\n",
       "daily        800\n",
       "simple       793\n",
       "gym          311\n",
       "year         240\n",
       "story        144\n",
       "day          144\n",
       "saturday     142\n",
       "rant         134\n",
       "victory      132\n",
       "physique     132\n",
       "sunday       131\n",
       "phriday      127\n",
       "wednesday    127\n",
       "stupid       126\n",
       "weight       124\n",
       "month        123\n",
       "monday       123\n",
       "weekly       123\n",
       "dtype: int64"
      ]
     },
     "execution_count": 138,
     "metadata": {},
     "output_type": "execute_result"
    }
   ],
   "source": [
    "fittop20 = fitness_df.sum().sort_values(ascending=False).head(20)\n",
    "fittop20"
   ]
  },
  {
   "cell_type": "code",
   "execution_count": 139,
   "id": "89f82803-9d13-4516-b1e7-742228395c10",
   "metadata": {},
   "outputs": [
    {
     "data": {
      "image/png": "[encoded data removed]",
      "text/plain": [
       "<Figure size 800x600 with 1 Axes>"
      ]
     },
     "metadata": {},
     "output_type": "display_data"
    }
   ],
   "source": [
    "plt.figure(figsize=(8,6), facecolor='black')\n",
    "ax = plt.axes()\n",
    "#ax.set_facecolor(\"#83ff6d\")\n",
    "plt.barh(fittop20.index, fittop20, color='black')\n",
    "plt.title('Most Common Fitness Tokens', size=18, loc='left', color='#83ff6d')\n",
    "plt.xlabel('Count', size=14, color='#83ff6d')\n",
    "plt.xticks(color='#83ff6d')\n",
    "plt.ylabel('Token', size=14, color='#83ff6d')\n",
    "plt.yticks(color='#83ff6d')\n",
    "plt.savefig('images/fitness_tokens.png', dpi=192);"
   ]
  },
  {
   "cell_type": "code",
   "execution_count": 140,
   "id": "e2b8b895-ee16-4f6c-8d9f-2eb7f6745c2c",
   "metadata": {},
   "outputs": [
    {
     "data": {
      "text/html": [
       "<style>#sk-container-id-6 {color: black;background-color: white;}#sk-container-id-6 pre{padding: 0;}#sk-container-id-6 div.sk-toggleable {background-color: white;}#sk-container-id-6 label.sk-toggleable__label {cursor: pointer;display: block;width: 100%;margin-bottom: 0;padding: 0.3em;box-sizing: border-box;text-align: center;}#sk-container-id-6 label.sk-toggleable__label-arrow:before {content: \"▸\";float: left;margin-right: 0.25em;color: #696969;}#sk-container-id-6 label.sk-toggleable__label-arrow:hover:before {color: black;}#sk-container-id-6 div.sk-estimator:hover label.sk-toggleable__label-arrow:before {color: black;}#sk-container-id-6 div.sk-toggleable__content {max-height: 0;max-width: 0;overflow: hidden;text-align: left;background-color: #f0f8ff;}#sk-container-id-6 div.sk-toggleable__content pre {margin: 0.2em;color: black;border-radius: 0.25em;background-color: #f0f8ff;}#sk-container-id-6 input.sk-toggleable__control:checked~div.sk-toggleable__content {max-height: 200px;max-width: 100%;overflow: auto;}#sk-container-id-6 input.sk-toggleable__control:checked~label.sk-toggleable__label-arrow:before {content: \"▾\";}#sk-container-id-6 div.sk-estimator input.sk-toggleable__control:checked~label.sk-toggleable__label {background-color: #d4ebff;}#sk-container-id-6 div.sk-label input.sk-toggleable__control:checked~label.sk-toggleable__label {background-color: #d4ebff;}#sk-container-id-6 input.sk-hidden--visually {border: 0;clip: rect(1px 1px 1px 1px);clip: rect(1px, 1px, 1px, 1px);height: 1px;margin: -1px;overflow: hidden;padding: 0;position: absolute;width: 1px;}#sk-container-id-6 div.sk-estimator {font-family: monospace;background-color: #f0f8ff;border: 1px dotted black;border-radius: 0.25em;box-sizing: border-box;margin-bottom: 0.5em;}#sk-container-id-6 div.sk-estimator:hover {background-color: #d4ebff;}#sk-container-id-6 div.sk-parallel-item::after {content: \"\";width: 100%;border-bottom: 1px solid gray;flex-grow: 1;}#sk-container-id-6 div.sk-label:hover label.sk-toggleable__label {background-color: #d4ebff;}#sk-container-id-6 div.sk-serial::before {content: \"\";position: absolute;border-left: 1px solid gray;box-sizing: border-box;top: 0;bottom: 0;left: 50%;z-index: 0;}#sk-container-id-6 div.sk-serial {display: flex;flex-direction: column;align-items: center;background-color: white;padding-right: 0.2em;padding-left: 0.2em;position: relative;}#sk-container-id-6 div.sk-item {position: relative;z-index: 1;}#sk-container-id-6 div.sk-parallel {display: flex;align-items: stretch;justify-content: center;background-color: white;position: relative;}#sk-container-id-6 div.sk-item::before, #sk-container-id-6 div.sk-parallel-item::before {content: \"\";position: absolute;border-left: 1px solid gray;box-sizing: border-box;top: 0;bottom: 0;left: 50%;z-index: -1;}#sk-container-id-6 div.sk-parallel-item {display: flex;flex-direction: column;z-index: 1;position: relative;background-color: white;}#sk-container-id-6 div.sk-parallel-item:first-child::after {align-self: flex-end;width: 50%;}#sk-container-id-6 div.sk-parallel-item:last-child::after {align-self: flex-start;width: 50%;}#sk-container-id-6 div.sk-parallel-item:only-child::after {width: 0;}#sk-container-id-6 div.sk-dashed-wrapped {border: 1px dashed gray;margin: 0 0.4em 0.5em 0.4em;box-sizing: border-box;padding-bottom: 0.4em;background-color: white;}#sk-container-id-6 div.sk-label label {font-family: monospace;font-weight: bold;display: inline-block;line-height: 1.2em;}#sk-container-id-6 div.sk-label-container {text-align: center;}#sk-container-id-6 div.sk-container {/* jupyter's `normalize.less` sets `[hidden] { display: none; }` but bootstrap.min.css set `[hidden] { display: none !important; }` so we also need the `!important` here to be able to override the default hidden behavior on the sphinx rendered scikit-learn.org. See: https://github.com/scikit-learn/scikit-learn/issues/21755 */display: inline-block !important;position: relative;}#sk-container-id-6 div.sk-text-repr-fallback {display: none;}</style><div id=\"sk-container-id-6\" class=\"sk-top-container\"><div class=\"sk-text-repr-fallback\"><pre>CountVectorizer()</pre><b>In a Jupyter environment, please rerun this cell to show the HTML representation or trust the notebook. <br />On GitHub, the HTML representation is unable to render, please try loading this page with nbviewer.org.</b></div><div class=\"sk-container\" hidden><div class=\"sk-item\"><div class=\"sk-estimator sk-toggleable\"><input class=\"sk-toggleable__control sk-hidden--visually\" id=\"sk-estimator-id-6\" type=\"checkbox\" checked><label for=\"sk-estimator-id-6\" class=\"sk-toggleable__label sk-toggleable__label-arrow\">CountVectorizer</label><div class=\"sk-toggleable__content\"><pre>CountVectorizer()</pre></div></div></div></div></div>"
      ],
      "text/plain": [
       "CountVectorizer()"
      ]
     },
     "execution_count": 140,
     "metadata": {},
     "output_type": "execute_result"
    }
   ],
   "source": [
    "cvec.fit(nutrition['processed_title_joined'])"
   ]
  },
  {
   "cell_type": "code",
   "execution_count": 141,
   "id": "6e92fb34-d63a-4a50-9fd1-2d62690c6c19",
   "metadata": {},
   "outputs": [],
   "source": [
    "nutrition_cvec = cvec.transform(nutrition['processed_title_joined'])"
   ]
  },
  {
   "cell_type": "code",
   "execution_count": 142,
   "id": "7e128333-4785-43fd-a74b-91bdab58d8f7",
   "metadata": {},
   "outputs": [],
   "source": [
    "nutrition_transformed = nutrition_cvec.toarray()"
   ]
  },
  {
   "cell_type": "code",
   "execution_count": 143,
   "id": "b135dcdb-f8af-4194-8af2-03636449c5b8",
   "metadata": {},
   "outputs": [],
   "source": [
    "feature_names = cvec.get_feature_names_out()"
   ]
  },
  {
   "cell_type": "code",
   "execution_count": 144,
   "id": "f6d7bd87-7899-40d9-8473-74be7694215f",
   "metadata": {},
   "outputs": [],
   "source": [
    "nutrition_df = pd.DataFrame(nutrition_transformed, columns=feature_names)"
   ]
  },
  {
   "cell_type": "code",
   "execution_count": 145,
   "id": "fa9c80ca-951d-4292-9f91-da777ea30111",
   "metadata": {},
   "outputs": [
    {
     "data": {
      "text/plain": [
       "food         577\n",
       "protein      381\n",
       "diet         352\n",
       "healthy      334\n",
       "nutrition    268\n",
       "eat          264\n",
       "calorie      263\n",
       "sugar        262\n",
       "fat          247\n",
       "eating       221\n",
       "bad          216\n",
       "good         185\n",
       "much         176\n",
       "health       166\n",
       "day          155\n",
       "vitamin      154\n",
       "high         146\n",
       "best         137\n",
       "fruit        136\n",
       "meat         136\n",
       "dtype: int64"
      ]
     },
     "execution_count": 145,
     "metadata": {},
     "output_type": "execute_result"
    }
   ],
   "source": [
    "nuttop20 = nutrition_df.sum().sort_values(ascending=False).head(20)\n",
    "nuttop20"
   ]
  },
  {
   "cell_type": "code",
   "execution_count": 146,
   "id": "48711520-3af4-460a-a6d3-9428fd9aebfc",
   "metadata": {},
   "outputs": [
    {
     "data": {
      "image/png": "[encoded data removed]",
      "text/plain": [
       "<Figure size 800x600 with 1 Axes>"
      ]
     },
     "metadata": {},
     "output_type": "display_data"
    }
   ],
   "source": [
    "plt.figure(figsize=(8,6), facecolor='black')\n",
    "plt.barh(nuttop20.index, nuttop20, color='#83ff6d')\n",
    "plt.title('Most Common Nutrition Tokens', size=18, loc='left', color='#83ff6d')\n",
    "plt.xlabel('Count', size=14, color='#83ff6d')\n",
    "plt.xticks(color='#83ff6d')\n",
    "plt.ylabel('Token', size=14, color='#83ff6d')\n",
    "plt.yticks(color='#83ff6d')\n",
    "plt.savefig('images/nutrition_tokens.png', dpi=192);"
   ]
  },
  {
   "cell_type": "code",
   "execution_count": 147,
   "id": "5151fbba-c29a-4cbe-bcd5-2a86ecf56605",
   "metadata": {},
   "outputs": [],
   "source": [
    "# combining my completed fitness and nutrition dataframes into one larger dataframe for use in modeling predictions\n",
    "\n",
    "reddit_posts = pd.concat([fitness, nutrition])"
   ]
  },
  {
   "cell_type": "code",
   "execution_count": 148,
   "id": "5822c415-7ee6-4577-a4a3-aafc504f8243",
   "metadata": {},
   "outputs": [
    {
     "data": {
      "text/plain": [
       "(8213, 10)"
      ]
     },
     "execution_count": 148,
     "metadata": {},
     "output_type": "execute_result"
    }
   ],
   "source": [
    "reddit_posts.shape"
   ]
  },
  {
   "cell_type": "code",
   "execution_count": 149,
   "id": "05f13efd-a267-4ffa-8e6c-a7daf14fe195",
   "metadata": {},
   "outputs": [
    {
     "data": {
      "text/plain": [
       "Title                       0\n",
       "ID                          0\n",
       "Author                    641\n",
       "URL                         0\n",
       "Score                       0\n",
       "Comment Count               0\n",
       "Created                     0\n",
       "subreddit                   0\n",
       "processed_title             0\n",
       "processed_title_joined      0\n",
       "dtype: int64"
      ]
     },
     "execution_count": 149,
     "metadata": {},
     "output_type": "execute_result"
    }
   ],
   "source": [
    "reddit_posts.isna().sum()"
   ]
  },
  {
   "cell_type": "markdown",
   "id": "9530fa69-2878-412f-8a4a-3d9e90755402",
   "metadata": {},
   "source": [
    "We have a chunk of missing authors, which might be due to account deletion. We don't really need this column for our modeling so I'm just going to leave it as is.\n",
    "\n",
    "I believe with my title column as my X and subreddit column as my y, I will have what I need to answer my classification problem."
   ]
  },
  {
   "cell_type": "code",
   "execution_count": 150,
   "id": "ef3770d4-6364-418d-9fda-e82e62f0a8dd",
   "metadata": {},
   "outputs": [
    {
     "data": {
      "text/html": [
       "<div>\n",
       "<style scoped>\n",
       "    .dataframe tbody tr th:only-of-type {\n",
       "        vertical-align: middle;\n",
       "    }\n",
       "\n",
       "    .dataframe tbody tr th {\n",
       "        vertical-align: top;\n",
       "    }\n",
       "\n",
       "    .dataframe thead th {\n",
       "        text-align: right;\n",
       "    }\n",
       "</style>\n",
       "<table border=\"1\" class=\"dataframe\">\n",
       "  <thead>\n",
       "    <tr style=\"text-align: right;\">\n",
       "      <th></th>\n",
       "      <th>Score</th>\n",
       "      <th>Comment Count</th>\n",
       "      <th>Created</th>\n",
       "    </tr>\n",
       "  </thead>\n",
       "  <tbody>\n",
       "    <tr>\n",
       "      <th>count</th>\n",
       "      <td>8213.000000</td>\n",
       "      <td>8213.000000</td>\n",
       "      <td>8.213000e+03</td>\n",
       "    </tr>\n",
       "    <tr>\n",
       "      <th>mean</th>\n",
       "      <td>406.538293</td>\n",
       "      <td>190.497017</td>\n",
       "      <td>1.618816e+09</td>\n",
       "    </tr>\n",
       "    <tr>\n",
       "      <th>std</th>\n",
       "      <td>1096.289388</td>\n",
       "      <td>278.610019</td>\n",
       "      <td>1.243387e+08</td>\n",
       "    </tr>\n",
       "    <tr>\n",
       "      <th>min</th>\n",
       "      <td>0.000000</td>\n",
       "      <td>0.000000</td>\n",
       "      <td>1.243018e+09</td>\n",
       "    </tr>\n",
       "    <tr>\n",
       "      <th>25%</th>\n",
       "      <td>2.000000</td>\n",
       "      <td>21.000000</td>\n",
       "      <td>1.546385e+09</td>\n",
       "    </tr>\n",
       "    <tr>\n",
       "      <th>50%</th>\n",
       "      <td>23.000000</td>\n",
       "      <td>74.000000</td>\n",
       "      <td>1.687252e+09</td>\n",
       "    </tr>\n",
       "    <tr>\n",
       "      <th>75%</th>\n",
       "      <td>184.000000</td>\n",
       "      <td>272.000000</td>\n",
       "      <td>1.711655e+09</td>\n",
       "    </tr>\n",
       "    <tr>\n",
       "      <th>max</th>\n",
       "      <td>19495.000000</td>\n",
       "      <td>4279.000000</td>\n",
       "      <td>1.720471e+09</td>\n",
       "    </tr>\n",
       "  </tbody>\n",
       "</table>\n",
       "</div>"
      ],
      "text/plain": [
       "              Score  Comment Count       Created\n",
       "count   8213.000000    8213.000000  8.213000e+03\n",
       "mean     406.538293     190.497017  1.618816e+09\n",
       "std     1096.289388     278.610019  1.243387e+08\n",
       "min        0.000000       0.000000  1.243018e+09\n",
       "25%        2.000000      21.000000  1.546385e+09\n",
       "50%       23.000000      74.000000  1.687252e+09\n",
       "75%      184.000000     272.000000  1.711655e+09\n",
       "max    19495.000000    4279.000000  1.720471e+09"
      ]
     },
     "execution_count": 150,
     "metadata": {},
     "output_type": "execute_result"
    }
   ],
   "source": [
    "reddit_posts.describe()"
   ]
  },
  {
   "cell_type": "code",
   "execution_count": 151,
   "id": "bf0d0672-fa4f-4c72-b48b-e046a3b25b43",
   "metadata": {},
   "outputs": [],
   "source": [
    "reddit_posts.to_csv('Data/reddit_posts.csv', index=False)"
   ]
  },
  {
   "cell_type": "code",
   "execution_count": 152,
   "id": "3a0582e8-6cce-43a5-81bb-fcfa1f53c097",
   "metadata": {},
   "outputs": [
    {
     "data": {
      "text/plain": [
       "Title                       0\n",
       "ID                          0\n",
       "Author                    641\n",
       "URL                         0\n",
       "Score                       0\n",
       "Comment Count               0\n",
       "Created                     0\n",
       "subreddit                   0\n",
       "processed_title             0\n",
       "processed_title_joined      0\n",
       "dtype: int64"
      ]
     },
     "execution_count": 152,
     "metadata": {},
     "output_type": "execute_result"
    }
   ],
   "source": [
    "reddit_posts.isna().sum()"
   ]
  }
 ],
 "metadata": {
  "kernelspec": {
   "display_name": "Python 3 (ipykernel)",
   "language": "python",
   "name": "python3"
  },
  "language_info": {
   "codemirror_mode": {
    "name": "ipython",
    "version": 3
   },
   "file_extension": ".py",
   "mimetype": "text/x-python",
   "name": "python",
   "nbconvert_exporter": "python",
   "pygments_lexer": "ipython3",
   "version": "3.11.7"
  }
 },
 "nbformat": 4,
 "nbformat_minor": 5
}
