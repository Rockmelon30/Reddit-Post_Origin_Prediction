{
 "cells": [
  {
   "cell_type": "markdown",
   "id": "ebe2113b-48ce-414c-a016-946ba0c35839",
   "metadata": {},
   "source": [
    "# Modeling"
   ]
  },
  {
   "cell_type": "code",
   "execution_count": 781,
   "id": "b98f058c-84b1-49fb-83e3-52ec52ca692f",
   "metadata": {},
   "outputs": [],
   "source": [
    "import numpy as np\n",
    "import pandas as pd\n",
    "import matplotlib.pyplot as plt\n",
    "\n",
    "from sklearn.model_selection import train_test_split, GridSearchCV\n",
    "from sklearn.pipeline import Pipeline\n",
    "from sklearn.linear_model import LogisticRegression\n",
    "from sklearn import metrics\n",
    "from sklearn.metrics import accuracy_score, classification_report, confusion_matrix, ConfusionMatrixDisplay\n",
    "from sklearn.feature_extraction.text import CountVectorizer, TfidfVectorizer\n",
    "from nltk.tokenize import word_tokenize, sent_tokenize, RegexpTokenizer\n",
    "from nltk.corpus import stopwords, wordnet\n",
    "from nltk.stem import PorterStemmer, WordNetLemmatizer\n",
    "from sklearn.naive_bayes import MultinomialNB"
   ]
  },
  {
   "cell_type": "code",
   "execution_count": 782,
   "id": "20bdff4a-9c8f-4251-9bfc-c7a64104dcbc",
   "metadata": {},
   "outputs": [],
   "source": [
    "# importing my cleaned dataframe for modeling\n",
    "reddit_posts = pd.read_csv('Data/reddit_posts.csv')"
   ]
  },
  {
   "cell_type": "code",
   "execution_count": 783,
   "id": "eeec4443-0ca4-4b5b-add9-edf39eb4d8b4",
   "metadata": {},
   "outputs": [
    {
     "data": {
      "text/html": [
       "<div>\n",
       "<style scoped>\n",
       "    .dataframe tbody tr th:only-of-type {\n",
       "        vertical-align: middle;\n",
       "    }\n",
       "\n",
       "    .dataframe tbody tr th {\n",
       "        vertical-align: top;\n",
       "    }\n",
       "\n",
       "    .dataframe thead th {\n",
       "        text-align: right;\n",
       "    }\n",
       "</style>\n",
       "<table border=\"1\" class=\"dataframe\">\n",
       "  <thead>\n",
       "    <tr style=\"text-align: right;\">\n",
       "      <th></th>\n",
       "      <th>Title</th>\n",
       "      <th>ID</th>\n",
       "      <th>Author</th>\n",
       "      <th>URL</th>\n",
       "      <th>Score</th>\n",
       "      <th>Comment Count</th>\n",
       "      <th>Created</th>\n",
       "      <th>subreddit</th>\n",
       "      <th>processed_title</th>\n",
       "      <th>processed_title_joined</th>\n",
       "    </tr>\n",
       "  </thead>\n",
       "  <tbody>\n",
       "    <tr>\n",
       "      <th>0</th>\n",
       "      <td>Things I Wish I Knew 8 Years Ago</td>\n",
       "      <td>4pl3yc</td>\n",
       "      <td>iamaliftaholic</td>\n",
       "      <td>https://www.reddit.com/r/Fitness/comments/4pl3...</td>\n",
       "      <td>19495</td>\n",
       "      <td>655</td>\n",
       "      <td>1.466744e+09</td>\n",
       "      <td>fitness</td>\n",
       "      <td>['thing', 'wish', 'knew', 'year', 'ago']</td>\n",
       "      <td>thing wish knew year ago</td>\n",
       "    </tr>\n",
       "    <tr>\n",
       "      <th>1</th>\n",
       "      <td>How to do PULL UPS properly and how to do your...</td>\n",
       "      <td>7ye7r2</td>\n",
       "      <td>Antranik</td>\n",
       "      <td>https://www.reddit.com/r/Fitness/comments/7ye7...</td>\n",
       "      <td>14127</td>\n",
       "      <td>516</td>\n",
       "      <td>1.518960e+09</td>\n",
       "      <td>fitness</td>\n",
       "      <td>['pull', 'ups', 'properly', 'first', 'pullup',...</td>\n",
       "      <td>pull ups properly first pullup ca</td>\n",
       "    </tr>\n",
       "    <tr>\n",
       "      <th>2</th>\n",
       "      <td>We over at r/flexibility created a new full-bo...</td>\n",
       "      <td>92bhaj</td>\n",
       "      <td>tykato</td>\n",
       "      <td>https://www.reddit.com/r/Fitness/comments/92bh...</td>\n",
       "      <td>14059</td>\n",
       "      <td>329</td>\n",
       "      <td>1.532689e+09</td>\n",
       "      <td>fitness</td>\n",
       "      <td>['created', 'new', 'stretching', 'routine', 't...</td>\n",
       "      <td>created new stretching routine take minute inc...</td>\n",
       "    </tr>\n",
       "    <tr>\n",
       "      <th>3</th>\n",
       "      <td>Smoking increases risk of lung cancer 2,500%. ...</td>\n",
       "      <td>3qft9h</td>\n",
       "      <td>duffstoic</td>\n",
       "      <td>https://www.reddit.com/r/Fitness/comments/3qft...</td>\n",
       "      <td>13341</td>\n",
       "      <td>1216</td>\n",
       "      <td>1.445964e+09</td>\n",
       "      <td>fitness</td>\n",
       "      <td>['smoking', 'increase', 'risk', 'lung', 'cance...</td>\n",
       "      <td>smoking increase risk lung cancer bacon increa...</td>\n",
       "    </tr>\n",
       "    <tr>\n",
       "      <th>4</th>\n",
       "      <td>Finally hit 213lbs lost, then got under 200lbs...</td>\n",
       "      <td>7nrqkz</td>\n",
       "      <td>abraxsis</td>\n",
       "      <td>https://www.reddit.com/r/Fitness/comments/7nrq...</td>\n",
       "      <td>12988</td>\n",
       "      <td>541</td>\n",
       "      <td>1.514948e+09</td>\n",
       "      <td>fitness</td>\n",
       "      <td>['finally', 'hit', 'lost', 'got', 'square', 'i...</td>\n",
       "      <td>finally hit lost got square inch skin removed ...</td>\n",
       "    </tr>\n",
       "  </tbody>\n",
       "</table>\n",
       "</div>"
      ],
      "text/plain": [
       "                                               Title      ID          Author  \\\n",
       "0                   Things I Wish I Knew 8 Years Ago  4pl3yc  iamaliftaholic   \n",
       "1  How to do PULL UPS properly and how to do your...  7ye7r2        Antranik   \n",
       "2  We over at r/flexibility created a new full-bo...  92bhaj          tykato   \n",
       "3  Smoking increases risk of lung cancer 2,500%. ...  3qft9h       duffstoic   \n",
       "4  Finally hit 213lbs lost, then got under 200lbs...  7nrqkz        abraxsis   \n",
       "\n",
       "                                                 URL  Score  Comment Count  \\\n",
       "0  https://www.reddit.com/r/Fitness/comments/4pl3...  19495            655   \n",
       "1  https://www.reddit.com/r/Fitness/comments/7ye7...  14127            516   \n",
       "2  https://www.reddit.com/r/Fitness/comments/92bh...  14059            329   \n",
       "3  https://www.reddit.com/r/Fitness/comments/3qft...  13341           1216   \n",
       "4  https://www.reddit.com/r/Fitness/comments/7nrq...  12988            541   \n",
       "\n",
       "        Created subreddit                                    processed_title  \\\n",
       "0  1.466744e+09   fitness           ['thing', 'wish', 'knew', 'year', 'ago']   \n",
       "1  1.518960e+09   fitness  ['pull', 'ups', 'properly', 'first', 'pullup',...   \n",
       "2  1.532689e+09   fitness  ['created', 'new', 'stretching', 'routine', 't...   \n",
       "3  1.445964e+09   fitness  ['smoking', 'increase', 'risk', 'lung', 'cance...   \n",
       "4  1.514948e+09   fitness  ['finally', 'hit', 'lost', 'got', 'square', 'i...   \n",
       "\n",
       "                              processed_title_joined  \n",
       "0                           thing wish knew year ago  \n",
       "1                  pull ups properly first pullup ca  \n",
       "2  created new stretching routine take minute inc...  \n",
       "3  smoking increase risk lung cancer bacon increa...  \n",
       "4  finally hit lost got square inch skin removed ...  "
      ]
     },
     "execution_count": 783,
     "metadata": {},
     "output_type": "execute_result"
    }
   ],
   "source": [
    "reddit_posts.head()"
   ]
  },
  {
   "cell_type": "markdown",
   "id": "22a3cbc2-cb6e-47df-95c6-00ac17cc984a",
   "metadata": {},
   "source": [
    "## Baseline Accuracy"
   ]
  },
  {
   "cell_type": "code",
   "execution_count": 784,
   "id": "4ae8a7d6-77f0-4f7f-a957-24258c0f220f",
   "metadata": {},
   "outputs": [],
   "source": [
    "X = reddit_posts['processed_title_joined']\n",
    "y = reddit_posts['subreddit']"
   ]
  },
  {
   "cell_type": "code",
   "execution_count": 785,
   "id": "c915f512-f50f-4e97-8dda-c578735fc2a5",
   "metadata": {},
   "outputs": [],
   "source": [
    "X_train, X_test, y_train, y_test = train_test_split(X, y, test_size=0.2, random_state=42)\n"
   ]
  },
  {
   "cell_type": "code",
   "execution_count": 786,
   "id": "8f446ef7-2048-45a1-abad-75820699bf81",
   "metadata": {},
   "outputs": [],
   "source": [
    "most_frequent_class = y_train.mode()[0]"
   ]
  },
  {
   "cell_type": "code",
   "execution_count": 787,
   "id": "875d37ce-8df5-4997-8fc6-d04178dd3d19",
   "metadata": {},
   "outputs": [
    {
     "data": {
      "text/plain": [
       "0.5575167376749848"
      ]
     },
     "execution_count": 787,
     "metadata": {},
     "output_type": "execute_result"
    }
   ],
   "source": [
    "baseline_accuracy = (y_test == most_frequent_class).mean()\n",
    "baseline_accuracy"
   ]
  },
  {
   "cell_type": "markdown",
   "id": "8eed6969-17ff-475e-9782-d59b59092c6e",
   "metadata": {},
   "source": [
    "## Model 1 - CountVectorizer"
   ]
  },
  {
   "cell_type": "code",
   "execution_count": 788,
   "id": "649c6875-1498-40a1-9dea-966c7e2f4aa6",
   "metadata": {},
   "outputs": [],
   "source": [
    "cvec = CountVectorizer()\n",
    "lemmatizer = WordNetLemmatizer()\n",
    "tokenizer = RegexpTokenizer('\\w+')"
   ]
  },
  {
   "cell_type": "code",
   "execution_count": 789,
   "id": "cd5055ba-722c-4ecc-a91f-ccdee2651904",
   "metadata": {},
   "outputs": [],
   "source": [
    "X = reddit_posts['processed_title_joined']\n",
    "y = reddit_posts['subreddit']"
   ]
  },
  {
   "cell_type": "code",
   "execution_count": 790,
   "id": "5c487757-a18a-4dec-96ba-9e15c573083b",
   "metadata": {},
   "outputs": [
    {
     "data": {
      "text/plain": [
       "4"
      ]
     },
     "execution_count": 790,
     "metadata": {},
     "output_type": "execute_result"
    }
   ],
   "source": [
    "X.isna().sum()"
   ]
  },
  {
   "cell_type": "code",
   "execution_count": 791,
   "id": "b6c8f05c-be89-4e11-b035-182abf6cd2f4",
   "metadata": {},
   "outputs": [],
   "source": [
    "X.fillna('', inplace=True)"
   ]
  },
  {
   "cell_type": "code",
   "execution_count": 792,
   "id": "d76452fc-9eea-456e-ac38-6804899ea864",
   "metadata": {},
   "outputs": [
    {
     "data": {
      "text/plain": [
       "0"
      ]
     },
     "execution_count": 792,
     "metadata": {},
     "output_type": "execute_result"
    }
   ],
   "source": [
    "X.isna().sum()"
   ]
  },
  {
   "cell_type": "code",
   "execution_count": 793,
   "id": "57fc74d6-28ff-438a-a6a9-e1c7803cb42b",
   "metadata": {},
   "outputs": [],
   "source": [
    "X_train, X_test, y_train, y_test = train_test_split(X, y, test_size=0.2, random_state=42)"
   ]
  },
  {
   "cell_type": "code",
   "execution_count": 794,
   "id": "35e928bb-9463-4de6-b2c8-7cb6a2785cbe",
   "metadata": {},
   "outputs": [],
   "source": [
    "X_train_cvec = cvec.fit_transform(X_train)\n",
    "X_test_cvec = cvec.transform(X_test)"
   ]
  },
  {
   "cell_type": "code",
   "execution_count": 795,
   "id": "3198b355-6fe1-4be6-9093-8bd1bf431064",
   "metadata": {},
   "outputs": [
    {
     "data": {
      "text/html": [
       "<style>#sk-container-id-50 {color: black;background-color: white;}#sk-container-id-50 pre{padding: 0;}#sk-container-id-50 div.sk-toggleable {background-color: white;}#sk-container-id-50 label.sk-toggleable__label {cursor: pointer;display: block;width: 100%;margin-bottom: 0;padding: 0.3em;box-sizing: border-box;text-align: center;}#sk-container-id-50 label.sk-toggleable__label-arrow:before {content: \"▸\";float: left;margin-right: 0.25em;color: #696969;}#sk-container-id-50 label.sk-toggleable__label-arrow:hover:before {color: black;}#sk-container-id-50 div.sk-estimator:hover label.sk-toggleable__label-arrow:before {color: black;}#sk-container-id-50 div.sk-toggleable__content {max-height: 0;max-width: 0;overflow: hidden;text-align: left;background-color: #f0f8ff;}#sk-container-id-50 div.sk-toggleable__content pre {margin: 0.2em;color: black;border-radius: 0.25em;background-color: #f0f8ff;}#sk-container-id-50 input.sk-toggleable__control:checked~div.sk-toggleable__content {max-height: 200px;max-width: 100%;overflow: auto;}#sk-container-id-50 input.sk-toggleable__control:checked~label.sk-toggleable__label-arrow:before {content: \"▾\";}#sk-container-id-50 div.sk-estimator input.sk-toggleable__control:checked~label.sk-toggleable__label {background-color: #d4ebff;}#sk-container-id-50 div.sk-label input.sk-toggleable__control:checked~label.sk-toggleable__label {background-color: #d4ebff;}#sk-container-id-50 input.sk-hidden--visually {border: 0;clip: rect(1px 1px 1px 1px);clip: rect(1px, 1px, 1px, 1px);height: 1px;margin: -1px;overflow: hidden;padding: 0;position: absolute;width: 1px;}#sk-container-id-50 div.sk-estimator {font-family: monospace;background-color: #f0f8ff;border: 1px dotted black;border-radius: 0.25em;box-sizing: border-box;margin-bottom: 0.5em;}#sk-container-id-50 div.sk-estimator:hover {background-color: #d4ebff;}#sk-container-id-50 div.sk-parallel-item::after {content: \"\";width: 100%;border-bottom: 1px solid gray;flex-grow: 1;}#sk-container-id-50 div.sk-label:hover label.sk-toggleable__label {background-color: #d4ebff;}#sk-container-id-50 div.sk-serial::before {content: \"\";position: absolute;border-left: 1px solid gray;box-sizing: border-box;top: 0;bottom: 0;left: 50%;z-index: 0;}#sk-container-id-50 div.sk-serial {display: flex;flex-direction: column;align-items: center;background-color: white;padding-right: 0.2em;padding-left: 0.2em;position: relative;}#sk-container-id-50 div.sk-item {position: relative;z-index: 1;}#sk-container-id-50 div.sk-parallel {display: flex;align-items: stretch;justify-content: center;background-color: white;position: relative;}#sk-container-id-50 div.sk-item::before, #sk-container-id-50 div.sk-parallel-item::before {content: \"\";position: absolute;border-left: 1px solid gray;box-sizing: border-box;top: 0;bottom: 0;left: 50%;z-index: -1;}#sk-container-id-50 div.sk-parallel-item {display: flex;flex-direction: column;z-index: 1;position: relative;background-color: white;}#sk-container-id-50 div.sk-parallel-item:first-child::after {align-self: flex-end;width: 50%;}#sk-container-id-50 div.sk-parallel-item:last-child::after {align-self: flex-start;width: 50%;}#sk-container-id-50 div.sk-parallel-item:only-child::after {width: 0;}#sk-container-id-50 div.sk-dashed-wrapped {border: 1px dashed gray;margin: 0 0.4em 0.5em 0.4em;box-sizing: border-box;padding-bottom: 0.4em;background-color: white;}#sk-container-id-50 div.sk-label label {font-family: monospace;font-weight: bold;display: inline-block;line-height: 1.2em;}#sk-container-id-50 div.sk-label-container {text-align: center;}#sk-container-id-50 div.sk-container {/* jupyter's `normalize.less` sets `[hidden] { display: none; }` but bootstrap.min.css set `[hidden] { display: none !important; }` so we also need the `!important` here to be able to override the default hidden behavior on the sphinx rendered scikit-learn.org. See: https://github.com/scikit-learn/scikit-learn/issues/21755 */display: inline-block !important;position: relative;}#sk-container-id-50 div.sk-text-repr-fallback {display: none;}</style><div id=\"sk-container-id-50\" class=\"sk-top-container\"><div class=\"sk-text-repr-fallback\"><pre>MultinomialNB()</pre><b>In a Jupyter environment, please rerun this cell to show the HTML representation or trust the notebook. <br />On GitHub, the HTML representation is unable to render, please try loading this page with nbviewer.org.</b></div><div class=\"sk-container\" hidden><div class=\"sk-item\"><div class=\"sk-estimator sk-toggleable\"><input class=\"sk-toggleable__control sk-hidden--visually\" id=\"sk-estimator-id-58\" type=\"checkbox\" checked><label for=\"sk-estimator-id-58\" class=\"sk-toggleable__label sk-toggleable__label-arrow\">MultinomialNB</label><div class=\"sk-toggleable__content\"><pre>MultinomialNB()</pre></div></div></div></div></div>"
      ],
      "text/plain": [
       "MultinomialNB()"
      ]
     },
     "execution_count": 795,
     "metadata": {},
     "output_type": "execute_result"
    }
   ],
   "source": [
    "model = MultinomialNB()\n",
    "model.fit(X_train_cvec, y_train)"
   ]
  },
  {
   "cell_type": "code",
   "execution_count": 796,
   "id": "5f217c8f-333b-4686-9c6e-fca644129db1",
   "metadata": {},
   "outputs": [
    {
     "data": {
      "text/plain": [
       "0.9576864535768645"
      ]
     },
     "execution_count": 796,
     "metadata": {},
     "output_type": "execute_result"
    }
   ],
   "source": [
    "model.score(X_train_cvec, y_train)"
   ]
  },
  {
   "cell_type": "code",
   "execution_count": 797,
   "id": "7d52ef62-0d9a-497e-abef-f7240c5f41cd",
   "metadata": {},
   "outputs": [
    {
     "data": {
      "text/plain": [
       "0.9360925136944613"
      ]
     },
     "execution_count": 797,
     "metadata": {},
     "output_type": "execute_result"
    }
   ],
   "source": [
    "model.score(X_test_cvec, y_test)"
   ]
  },
  {
   "cell_type": "code",
   "execution_count": 798,
   "id": "b3e46532-6f4e-4b7e-9686-3853d5dbc76b",
   "metadata": {},
   "outputs": [],
   "source": [
    "y_pred = model.predict(X_test_cvec)"
   ]
  },
  {
   "cell_type": "code",
   "execution_count": 799,
   "id": "6ed49077-460f-404c-bcf4-5ea5740820d2",
   "metadata": {},
   "outputs": [],
   "source": [
    "cm = confusion_matrix(y_test, y_pred, labels=model.classes_)"
   ]
  },
  {
   "cell_type": "code",
   "execution_count": 800,
   "id": "8a149d39-fe83-4860-b624-4aa936c98f90",
   "metadata": {},
   "outputs": [
    {
     "data": {
      "image/png": "[encoded data removed]",
      "text/plain": [
       "<Figure size 640x480 with 2 Axes>"
      ]
     },
     "metadata": {},
     "output_type": "display_data"
    }
   ],
   "source": [
    "disp = ConfusionMatrixDisplay(confusion_matrix=cm, display_labels=model.classes_)\n",
    "disp.plot(cmap=plt.cm.Greens);"
   ]
  },
  {
   "cell_type": "code",
   "execution_count": 801,
   "id": "8008c11a-918b-4000-af24-26a19582d3c9",
   "metadata": {},
   "outputs": [],
   "source": [
    "accuracy = accuracy_score(y_test, y_pred)\n",
    "class_rep = classification_report(y_test, y_pred)"
   ]
  },
  {
   "cell_type": "code",
   "execution_count": 802,
   "id": "3029255c-a149-4c73-b424-44f183f119bb",
   "metadata": {},
   "outputs": [
    {
     "data": {
      "text/plain": [
       "0.9360925136944613"
      ]
     },
     "execution_count": 802,
     "metadata": {},
     "output_type": "execute_result"
    }
   ],
   "source": [
    "accuracy"
   ]
  },
  {
   "cell_type": "code",
   "execution_count": 803,
   "id": "a1107296-6722-448a-b605-9d4f2690c1ca",
   "metadata": {},
   "outputs": [
    {
     "data": {
      "text/plain": [
       "'              precision    recall  f1-score   support\\n\\n     fitness       0.96      0.89      0.92       727\\n   nutrition       0.92      0.97      0.94       916\\n\\n    accuracy                           0.94      1643\\n   macro avg       0.94      0.93      0.93      1643\\nweighted avg       0.94      0.94      0.94      1643\\n'"
      ]
     },
     "execution_count": 803,
     "metadata": {},
     "output_type": "execute_result"
    }
   ],
   "source": [
    "class_rep"
   ]
  },
  {
   "cell_type": "code",
   "execution_count": 804,
   "id": "317419df-3f07-46ba-8dcf-da3beddf3e8f",
   "metadata": {},
   "outputs": [],
   "source": [
    "# Investigate incorrect predictions\n",
    "incorrect_predictions = X_test[y_test != y_pred]\n",
    "incorrect_true_labels = y_test[y_test != y_pred]\n",
    "incorrect_pred_labels = y_pred[y_test != y_pred]"
   ]
  },
  {
   "cell_type": "code",
   "execution_count": 805,
   "id": "05f86024-349c-4ed9-bf53-29402cfa2a43",
   "metadata": {},
   "outputs": [],
   "source": [
    "incorrect_df = pd.DataFrame({\n",
    "    'Text': incorrect_predictions,\n",
    "    'True Label': incorrect_true_labels,\n",
    "    'Predicted Label': incorrect_pred_labels\n",
    "})"
   ]
  },
  {
   "cell_type": "code",
   "execution_count": 806,
   "id": "5f3f5b7f-e7b1-45ae-99d8-2c18b48efe15",
   "metadata": {},
   "outputs": [
    {
     "data": {
      "text/html": [
       "<div>\n",
       "<style scoped>\n",
       "    .dataframe tbody tr th:only-of-type {\n",
       "        vertical-align: middle;\n",
       "    }\n",
       "\n",
       "    .dataframe tbody tr th {\n",
       "        vertical-align: top;\n",
       "    }\n",
       "\n",
       "    .dataframe thead th {\n",
       "        text-align: right;\n",
       "    }\n",
       "</style>\n",
       "<table border=\"1\" class=\"dataframe\">\n",
       "  <thead>\n",
       "    <tr style=\"text-align: right;\">\n",
       "      <th></th>\n",
       "      <th>Text</th>\n",
       "      <th>True Label</th>\n",
       "      <th>Predicted Label</th>\n",
       "    </tr>\n",
       "  </thead>\n",
       "  <tbody>\n",
       "    <tr>\n",
       "      <th>2992</th>\n",
       "      <td>squat even performed strict form cause stress ...</td>\n",
       "      <td>fitness</td>\n",
       "      <td>nutrition</td>\n",
       "    </tr>\n",
       "    <tr>\n",
       "      <th>4405</th>\n",
       "      <td>sub update addressing misinformation</td>\n",
       "      <td>nutrition</td>\n",
       "      <td>fitness</td>\n",
       "    </tr>\n",
       "    <tr>\n",
       "      <th>8135</th>\n",
       "      <td>favourite dietician follow instagram</td>\n",
       "      <td>nutrition</td>\n",
       "      <td>fitness</td>\n",
       "    </tr>\n",
       "    <tr>\n",
       "      <th>2829</th>\n",
       "      <td>first thing thought morning</td>\n",
       "      <td>fitness</td>\n",
       "      <td>nutrition</td>\n",
       "    </tr>\n",
       "    <tr>\n",
       "      <th>1053</th>\n",
       "      <td>water aerobics good muscle gain body toning</td>\n",
       "      <td>fitness</td>\n",
       "      <td>nutrition</td>\n",
       "    </tr>\n",
       "    <tr>\n",
       "      <th>2571</th>\n",
       "      <td>tooth health whey protein powder vitamin</td>\n",
       "      <td>fitness</td>\n",
       "      <td>nutrition</td>\n",
       "    </tr>\n",
       "    <tr>\n",
       "      <th>3238</th>\n",
       "      <td>got kidding cnn article stating fat healthy</td>\n",
       "      <td>fitness</td>\n",
       "      <td>nutrition</td>\n",
       "    </tr>\n",
       "    <tr>\n",
       "      <th>730</th>\n",
       "      <td>american heart association encourages focus si...</td>\n",
       "      <td>fitness</td>\n",
       "      <td>nutrition</td>\n",
       "    </tr>\n",
       "    <tr>\n",
       "      <th>239</th>\n",
       "      <td>interested would fititt community chemical ana...</td>\n",
       "      <td>fitness</td>\n",
       "      <td>nutrition</td>\n",
       "    </tr>\n",
       "    <tr>\n",
       "      <th>6011</th>\n",
       "      <td>someone please clarify question creatine</td>\n",
       "      <td>nutrition</td>\n",
       "      <td>fitness</td>\n",
       "    </tr>\n",
       "  </tbody>\n",
       "</table>\n",
       "</div>"
      ],
      "text/plain": [
       "                                                   Text True Label  \\\n",
       "2992  squat even performed strict form cause stress ...    fitness   \n",
       "4405               sub update addressing misinformation  nutrition   \n",
       "8135               favourite dietician follow instagram  nutrition   \n",
       "2829                        first thing thought morning    fitness   \n",
       "1053        water aerobics good muscle gain body toning    fitness   \n",
       "2571           tooth health whey protein powder vitamin    fitness   \n",
       "3238        got kidding cnn article stating fat healthy    fitness   \n",
       "730   american heart association encourages focus si...    fitness   \n",
       "239   interested would fititt community chemical ana...    fitness   \n",
       "6011           someone please clarify question creatine  nutrition   \n",
       "\n",
       "     Predicted Label  \n",
       "2992       nutrition  \n",
       "4405         fitness  \n",
       "8135         fitness  \n",
       "2829       nutrition  \n",
       "1053       nutrition  \n",
       "2571       nutrition  \n",
       "3238       nutrition  \n",
       "730        nutrition  \n",
       "239        nutrition  \n",
       "6011         fitness  "
      ]
     },
     "execution_count": 806,
     "metadata": {},
     "output_type": "execute_result"
    }
   ],
   "source": [
    "incorrect_df.head(10)"
   ]
  },
  {
   "cell_type": "code",
   "execution_count": 807,
   "id": "a829a2ca-f2ad-4638-87f5-3d31a2def7e8",
   "metadata": {},
   "outputs": [
    {
     "data": {
      "text/plain": [
       "(105, 3)"
      ]
     },
     "execution_count": 807,
     "metadata": {},
     "output_type": "execute_result"
    }
   ],
   "source": [
    "incorrect_df.shape"
   ]
  },
  {
   "cell_type": "markdown",
   "id": "ed0ca467-67a3-4355-9a24-7b1352a38273",
   "metadata": {},
   "source": [
    "Now I'll investigate which words are most common in my incorrect predictions"
   ]
  },
  {
   "cell_type": "code",
   "execution_count": 808,
   "id": "924fa982-a148-4fe3-9d36-b5f2fbdb13b5",
   "metadata": {},
   "outputs": [
    {
     "data": {
      "text/html": [
       "<style>#sk-container-id-51 {color: black;background-color: white;}#sk-container-id-51 pre{padding: 0;}#sk-container-id-51 div.sk-toggleable {background-color: white;}#sk-container-id-51 label.sk-toggleable__label {cursor: pointer;display: block;width: 100%;margin-bottom: 0;padding: 0.3em;box-sizing: border-box;text-align: center;}#sk-container-id-51 label.sk-toggleable__label-arrow:before {content: \"▸\";float: left;margin-right: 0.25em;color: #696969;}#sk-container-id-51 label.sk-toggleable__label-arrow:hover:before {color: black;}#sk-container-id-51 div.sk-estimator:hover label.sk-toggleable__label-arrow:before {color: black;}#sk-container-id-51 div.sk-toggleable__content {max-height: 0;max-width: 0;overflow: hidden;text-align: left;background-color: #f0f8ff;}#sk-container-id-51 div.sk-toggleable__content pre {margin: 0.2em;color: black;border-radius: 0.25em;background-color: #f0f8ff;}#sk-container-id-51 input.sk-toggleable__control:checked~div.sk-toggleable__content {max-height: 200px;max-width: 100%;overflow: auto;}#sk-container-id-51 input.sk-toggleable__control:checked~label.sk-toggleable__label-arrow:before {content: \"▾\";}#sk-container-id-51 div.sk-estimator input.sk-toggleable__control:checked~label.sk-toggleable__label {background-color: #d4ebff;}#sk-container-id-51 div.sk-label input.sk-toggleable__control:checked~label.sk-toggleable__label {background-color: #d4ebff;}#sk-container-id-51 input.sk-hidden--visually {border: 0;clip: rect(1px 1px 1px 1px);clip: rect(1px, 1px, 1px, 1px);height: 1px;margin: -1px;overflow: hidden;padding: 0;position: absolute;width: 1px;}#sk-container-id-51 div.sk-estimator {font-family: monospace;background-color: #f0f8ff;border: 1px dotted black;border-radius: 0.25em;box-sizing: border-box;margin-bottom: 0.5em;}#sk-container-id-51 div.sk-estimator:hover {background-color: #d4ebff;}#sk-container-id-51 div.sk-parallel-item::after {content: \"\";width: 100%;border-bottom: 1px solid gray;flex-grow: 1;}#sk-container-id-51 div.sk-label:hover label.sk-toggleable__label {background-color: #d4ebff;}#sk-container-id-51 div.sk-serial::before {content: \"\";position: absolute;border-left: 1px solid gray;box-sizing: border-box;top: 0;bottom: 0;left: 50%;z-index: 0;}#sk-container-id-51 div.sk-serial {display: flex;flex-direction: column;align-items: center;background-color: white;padding-right: 0.2em;padding-left: 0.2em;position: relative;}#sk-container-id-51 div.sk-item {position: relative;z-index: 1;}#sk-container-id-51 div.sk-parallel {display: flex;align-items: stretch;justify-content: center;background-color: white;position: relative;}#sk-container-id-51 div.sk-item::before, #sk-container-id-51 div.sk-parallel-item::before {content: \"\";position: absolute;border-left: 1px solid gray;box-sizing: border-box;top: 0;bottom: 0;left: 50%;z-index: -1;}#sk-container-id-51 div.sk-parallel-item {display: flex;flex-direction: column;z-index: 1;position: relative;background-color: white;}#sk-container-id-51 div.sk-parallel-item:first-child::after {align-self: flex-end;width: 50%;}#sk-container-id-51 div.sk-parallel-item:last-child::after {align-self: flex-start;width: 50%;}#sk-container-id-51 div.sk-parallel-item:only-child::after {width: 0;}#sk-container-id-51 div.sk-dashed-wrapped {border: 1px dashed gray;margin: 0 0.4em 0.5em 0.4em;box-sizing: border-box;padding-bottom: 0.4em;background-color: white;}#sk-container-id-51 div.sk-label label {font-family: monospace;font-weight: bold;display: inline-block;line-height: 1.2em;}#sk-container-id-51 div.sk-label-container {text-align: center;}#sk-container-id-51 div.sk-container {/* jupyter's `normalize.less` sets `[hidden] { display: none; }` but bootstrap.min.css set `[hidden] { display: none !important; }` so we also need the `!important` here to be able to override the default hidden behavior on the sphinx rendered scikit-learn.org. See: https://github.com/scikit-learn/scikit-learn/issues/21755 */display: inline-block !important;position: relative;}#sk-container-id-51 div.sk-text-repr-fallback {display: none;}</style><div id=\"sk-container-id-51\" class=\"sk-top-container\"><div class=\"sk-text-repr-fallback\"><pre>CountVectorizer()</pre><b>In a Jupyter environment, please rerun this cell to show the HTML representation or trust the notebook. <br />On GitHub, the HTML representation is unable to render, please try loading this page with nbviewer.org.</b></div><div class=\"sk-container\" hidden><div class=\"sk-item\"><div class=\"sk-estimator sk-toggleable\"><input class=\"sk-toggleable__control sk-hidden--visually\" id=\"sk-estimator-id-59\" type=\"checkbox\" checked><label for=\"sk-estimator-id-59\" class=\"sk-toggleable__label sk-toggleable__label-arrow\">CountVectorizer</label><div class=\"sk-toggleable__content\"><pre>CountVectorizer()</pre></div></div></div></div></div>"
      ],
      "text/plain": [
       "CountVectorizer()"
      ]
     },
     "execution_count": 808,
     "metadata": {},
     "output_type": "execute_result"
    }
   ],
   "source": [
    "cvec.fit(incorrect_df['Text'])"
   ]
  },
  {
   "cell_type": "code",
   "execution_count": 809,
   "id": "f9431159-09bf-4e07-bfa1-67b64bb43b59",
   "metadata": {},
   "outputs": [],
   "source": [
    "incorrect_cvec = cvec.transform(incorrect_df['Text'])"
   ]
  },
  {
   "cell_type": "code",
   "execution_count": 810,
   "id": "0785e30d-8bc7-4ada-89fa-8424754cf8ba",
   "metadata": {},
   "outputs": [],
   "source": [
    "incorrect_transformed = incorrect_cvec.toarray()"
   ]
  },
  {
   "cell_type": "code",
   "execution_count": 811,
   "id": "eb67165c-02d3-4a72-bda8-928afd372926",
   "metadata": {},
   "outputs": [],
   "source": [
    "feature_names = cvec.get_feature_names_out()"
   ]
  },
  {
   "cell_type": "code",
   "execution_count": 812,
   "id": "86c4170b-8b3a-4621-9e06-6fba58f0cfb3",
   "metadata": {},
   "outputs": [],
   "source": [
    "incorrect_df = pd.DataFrame(incorrect_transformed, columns=feature_names)"
   ]
  },
  {
   "cell_type": "code",
   "execution_count": 813,
   "id": "2fba552d-970b-42d7-876d-16624b0dabc7",
   "metadata": {
    "scrolled": true
   },
   "outputs": [
    {
     "data": {
      "text/plain": [
       "fat         11\n",
       "calorie     11\n",
       "healthy      9\n",
       "help         8\n",
       "health       8\n",
       "diet         7\n",
       "people       7\n",
       "food         6\n",
       "protein      6\n",
       "body         6\n",
       "day          5\n",
       "good         5\n",
       "exercise     5\n",
       "eat          5\n",
       "study        5\n",
       "benefit      4\n",
       "like         4\n",
       "get          4\n",
       "weight       4\n",
       "eating       4\n",
       "dtype: int64"
      ]
     },
     "execution_count": 813,
     "metadata": {},
     "output_type": "execute_result"
    }
   ],
   "source": [
    "incorrecttop20 = incorrect_df.sum().sort_values(ascending=False).head(20)\n",
    "incorrecttop20"
   ]
  },
  {
   "cell_type": "code",
   "execution_count": 814,
   "id": "15b7aaa9-5fdc-41d6-9e20-da2eea07505f",
   "metadata": {},
   "outputs": [
    {
     "data": {
      "image/png": "[encoded data removed]",
      "text/plain": [
       "<Figure size 800x600 with 1 Axes>"
      ]
     },
     "metadata": {},
     "output_type": "display_data"
    }
   ],
   "source": [
    "plt.figure(figsize=(8,6), facecolor='black')\n",
    "ax = plt.axes()\n",
    "plt.barh(incorrecttop20.index, incorrecttop20, color='black')\n",
    "plt.title('Most Common Tokens Among incorrect Predictions', size=18, loc='left', color='#83ff6d')\n",
    "plt.xlabel('Count', size=14, color='#83ff6d')\n",
    "plt.xticks(color='#83ff6d')\n",
    "plt.ylabel('Token', size=14, color='#83ff6d')\n",
    "plt.yticks(color='#83ff6d')\n",
    "plt.savefig('images/incorrect_tokens.png', dpi=192);"
   ]
  },
  {
   "cell_type": "markdown",
   "id": "5ed1defb-0aa8-4fda-bbfd-d0f64cb6511e",
   "metadata": {},
   "source": [
    "## Model #2 - TF-IDF "
   ]
  },
  {
   "cell_type": "code",
   "execution_count": 873,
   "id": "f9edc367-5b74-48e1-961f-6b0d42c89c4f",
   "metadata": {},
   "outputs": [],
   "source": [
    "X = reddit_posts['processed_title_joined']\n",
    "y = reddit_posts['subreddit']"
   ]
  },
  {
   "cell_type": "code",
   "execution_count": 874,
   "id": "be109bb6-ad0d-40a8-92e3-268aa3c79991",
   "metadata": {},
   "outputs": [],
   "source": [
    "X_train, X_test, y_train, y_test = train_test_split(X, y, test_size=0.2, random_state=42)"
   ]
  },
  {
   "cell_type": "code",
   "execution_count": 914,
   "id": "37cedfb0-a7e6-479f-b22b-1f1046c63445",
   "metadata": {},
   "outputs": [],
   "source": [
    "tfidf = TfidfVectorizer()"
   ]
  },
  {
   "cell_type": "code",
   "execution_count": 915,
   "id": "47751b8f-dede-4cda-b873-392228cdec28",
   "metadata": {},
   "outputs": [],
   "source": [
    "X_train_tf = tfidf.fit_transform(X_train)\n",
    "X_test_tf = tfidf.transform(X_test)"
   ]
  },
  {
   "cell_type": "code",
   "execution_count": 916,
   "id": "94a79eed-756b-422c-bd59-0a95d05ada64",
   "metadata": {},
   "outputs": [],
   "source": [
    "tf_feature_names = tfidf.get_feature_names_out()"
   ]
  },
  {
   "cell_type": "code",
   "execution_count": 917,
   "id": "073ea9c9-be0c-41c1-9227-41b7131fa23d",
   "metadata": {},
   "outputs": [],
   "source": [
    "tfidf_scores = X_train_tf.mean(axis=0).A1"
   ]
  },
  {
   "cell_type": "code",
   "execution_count": 918,
   "id": "059e9883-4a27-4343-adc8-e495fac65d67",
   "metadata": {},
   "outputs": [],
   "source": [
    "tfidf_df = pd.DataFrame({'word':tf_feature_names, 'tfidf_score': tfidf_scores})"
   ]
  },
  {
   "cell_type": "code",
   "execution_count": 919,
   "id": "4478aff6-edd6-4338-b4ff-0a5cc509c386",
   "metadata": {},
   "outputs": [
    {
     "data": {
      "text/html": [
       "<div>\n",
       "<style scoped>\n",
       "    .dataframe tbody tr th:only-of-type {\n",
       "        vertical-align: middle;\n",
       "    }\n",
       "\n",
       "    .dataframe tbody tr th {\n",
       "        vertical-align: top;\n",
       "    }\n",
       "\n",
       "    .dataframe thead th {\n",
       "        text-align: right;\n",
       "    }\n",
       "</style>\n",
       "<table border=\"1\" class=\"dataframe\">\n",
       "  <thead>\n",
       "    <tr style=\"text-align: right;\">\n",
       "      <th></th>\n",
       "      <th>word</th>\n",
       "      <th>tfidf_score</th>\n",
       "    </tr>\n",
       "  </thead>\n",
       "  <tbody>\n",
       "    <tr>\n",
       "      <th>0</th>\n",
       "      <td>aa</td>\n",
       "      <td>0.000074</td>\n",
       "    </tr>\n",
       "    <tr>\n",
       "      <th>1</th>\n",
       "      <td>aap</td>\n",
       "      <td>0.000049</td>\n",
       "    </tr>\n",
       "    <tr>\n",
       "      <th>2</th>\n",
       "      <td>ab</td>\n",
       "      <td>0.001463</td>\n",
       "    </tr>\n",
       "    <tr>\n",
       "      <th>3</th>\n",
       "      <td>abdominal</td>\n",
       "      <td>0.000339</td>\n",
       "    </tr>\n",
       "    <tr>\n",
       "      <th>4</th>\n",
       "      <td>ability</td>\n",
       "      <td>0.000152</td>\n",
       "    </tr>\n",
       "  </tbody>\n",
       "</table>\n",
       "</div>"
      ],
      "text/plain": [
       "        word  tfidf_score\n",
       "0         aa     0.000074\n",
       "1        aap     0.000049\n",
       "2         ab     0.001463\n",
       "3  abdominal     0.000339\n",
       "4    ability     0.000152"
      ]
     },
     "execution_count": 919,
     "metadata": {},
     "output_type": "execute_result"
    }
   ],
   "source": [
    "tfidf_df.head()"
   ]
  },
  {
   "cell_type": "code",
   "execution_count": 920,
   "id": "0fe15b9b-14ce-4010-9a70-92bddb78cb7b",
   "metadata": {},
   "outputs": [],
   "source": [
    "tfidf_df_sorted = tfidf_df.sort_values(by='tfidf_score', ascending=False)"
   ]
  },
  {
   "cell_type": "code",
   "execution_count": 921,
   "id": "ef4c746c-8b99-4604-b3cf-9c30a593ea0f",
   "metadata": {},
   "outputs": [
    {
     "data": {
      "text/html": [
       "<div>\n",
       "<style scoped>\n",
       "    .dataframe tbody tr th:only-of-type {\n",
       "        vertical-align: middle;\n",
       "    }\n",
       "\n",
       "    .dataframe tbody tr th {\n",
       "        vertical-align: top;\n",
       "    }\n",
       "\n",
       "    .dataframe thead th {\n",
       "        text-align: right;\n",
       "    }\n",
       "</style>\n",
       "<table border=\"1\" class=\"dataframe\">\n",
       "  <thead>\n",
       "    <tr style=\"text-align: right;\">\n",
       "      <th></th>\n",
       "      <th>word</th>\n",
       "      <th>tfidf_score</th>\n",
       "    </tr>\n",
       "  </thead>\n",
       "  <tbody>\n",
       "    <tr>\n",
       "      <th>3628</th>\n",
       "      <td>question</td>\n",
       "      <td>0.042156</td>\n",
       "    </tr>\n",
       "    <tr>\n",
       "      <th>4649</th>\n",
       "      <td>thread</td>\n",
       "      <td>0.040173</td>\n",
       "    </tr>\n",
       "    <tr>\n",
       "      <th>1102</th>\n",
       "      <td>daily</td>\n",
       "      <td>0.038872</td>\n",
       "    </tr>\n",
       "    <tr>\n",
       "      <th>4147</th>\n",
       "      <td>simple</td>\n",
       "      <td>0.037905</td>\n",
       "    </tr>\n",
       "    <tr>\n",
       "      <th>1775</th>\n",
       "      <td>food</td>\n",
       "      <td>0.018215</td>\n",
       "    </tr>\n",
       "    <tr>\n",
       "      <th>3570</th>\n",
       "      <td>protein</td>\n",
       "      <td>0.015476</td>\n",
       "    </tr>\n",
       "    <tr>\n",
       "      <th>2019</th>\n",
       "      <td>gym</td>\n",
       "      <td>0.013722</td>\n",
       "    </tr>\n",
       "    <tr>\n",
       "      <th>1247</th>\n",
       "      <td>diet</td>\n",
       "      <td>0.013691</td>\n",
       "    </tr>\n",
       "    <tr>\n",
       "      <th>2079</th>\n",
       "      <td>healthy</td>\n",
       "      <td>0.013351</td>\n",
       "    </tr>\n",
       "    <tr>\n",
       "      <th>632</th>\n",
       "      <td>calorie</td>\n",
       "      <td>0.011922</td>\n",
       "    </tr>\n",
       "  </tbody>\n",
       "</table>\n",
       "</div>"
      ],
      "text/plain": [
       "          word  tfidf_score\n",
       "3628  question     0.042156\n",
       "4649    thread     0.040173\n",
       "1102     daily     0.038872\n",
       "4147    simple     0.037905\n",
       "1775      food     0.018215\n",
       "3570   protein     0.015476\n",
       "2019       gym     0.013722\n",
       "1247      diet     0.013691\n",
       "2079   healthy     0.013351\n",
       "632    calorie     0.011922"
      ]
     },
     "execution_count": 921,
     "metadata": {},
     "output_type": "execute_result"
    }
   ],
   "source": [
    "tfidf_df_sorted.head(10)"
   ]
  },
  {
   "cell_type": "code",
   "execution_count": 922,
   "id": "15f74f0c-1707-4e68-a153-b4eb4ad5ac1d",
   "metadata": {},
   "outputs": [],
   "source": [
    "log = LogisticRegression(max_iter=1000)"
   ]
  },
  {
   "cell_type": "code",
   "execution_count": 923,
   "id": "f0c71bb5-abef-4e6d-acb3-d246219eba0f",
   "metadata": {},
   "outputs": [
    {
     "data": {
      "text/html": [
       "<style>#sk-container-id-59 {color: black;background-color: white;}#sk-container-id-59 pre{padding: 0;}#sk-container-id-59 div.sk-toggleable {background-color: white;}#sk-container-id-59 label.sk-toggleable__label {cursor: pointer;display: block;width: 100%;margin-bottom: 0;padding: 0.3em;box-sizing: border-box;text-align: center;}#sk-container-id-59 label.sk-toggleable__label-arrow:before {content: \"▸\";float: left;margin-right: 0.25em;color: #696969;}#sk-container-id-59 label.sk-toggleable__label-arrow:hover:before {color: black;}#sk-container-id-59 div.sk-estimator:hover label.sk-toggleable__label-arrow:before {color: black;}#sk-container-id-59 div.sk-toggleable__content {max-height: 0;max-width: 0;overflow: hidden;text-align: left;background-color: #f0f8ff;}#sk-container-id-59 div.sk-toggleable__content pre {margin: 0.2em;color: black;border-radius: 0.25em;background-color: #f0f8ff;}#sk-container-id-59 input.sk-toggleable__control:checked~div.sk-toggleable__content {max-height: 200px;max-width: 100%;overflow: auto;}#sk-container-id-59 input.sk-toggleable__control:checked~label.sk-toggleable__label-arrow:before {content: \"▾\";}#sk-container-id-59 div.sk-estimator input.sk-toggleable__control:checked~label.sk-toggleable__label {background-color: #d4ebff;}#sk-container-id-59 div.sk-label input.sk-toggleable__control:checked~label.sk-toggleable__label {background-color: #d4ebff;}#sk-container-id-59 input.sk-hidden--visually {border: 0;clip: rect(1px 1px 1px 1px);clip: rect(1px, 1px, 1px, 1px);height: 1px;margin: -1px;overflow: hidden;padding: 0;position: absolute;width: 1px;}#sk-container-id-59 div.sk-estimator {font-family: monospace;background-color: #f0f8ff;border: 1px dotted black;border-radius: 0.25em;box-sizing: border-box;margin-bottom: 0.5em;}#sk-container-id-59 div.sk-estimator:hover {background-color: #d4ebff;}#sk-container-id-59 div.sk-parallel-item::after {content: \"\";width: 100%;border-bottom: 1px solid gray;flex-grow: 1;}#sk-container-id-59 div.sk-label:hover label.sk-toggleable__label {background-color: #d4ebff;}#sk-container-id-59 div.sk-serial::before {content: \"\";position: absolute;border-left: 1px solid gray;box-sizing: border-box;top: 0;bottom: 0;left: 50%;z-index: 0;}#sk-container-id-59 div.sk-serial {display: flex;flex-direction: column;align-items: center;background-color: white;padding-right: 0.2em;padding-left: 0.2em;position: relative;}#sk-container-id-59 div.sk-item {position: relative;z-index: 1;}#sk-container-id-59 div.sk-parallel {display: flex;align-items: stretch;justify-content: center;background-color: white;position: relative;}#sk-container-id-59 div.sk-item::before, #sk-container-id-59 div.sk-parallel-item::before {content: \"\";position: absolute;border-left: 1px solid gray;box-sizing: border-box;top: 0;bottom: 0;left: 50%;z-index: -1;}#sk-container-id-59 div.sk-parallel-item {display: flex;flex-direction: column;z-index: 1;position: relative;background-color: white;}#sk-container-id-59 div.sk-parallel-item:first-child::after {align-self: flex-end;width: 50%;}#sk-container-id-59 div.sk-parallel-item:last-child::after {align-self: flex-start;width: 50%;}#sk-container-id-59 div.sk-parallel-item:only-child::after {width: 0;}#sk-container-id-59 div.sk-dashed-wrapped {border: 1px dashed gray;margin: 0 0.4em 0.5em 0.4em;box-sizing: border-box;padding-bottom: 0.4em;background-color: white;}#sk-container-id-59 div.sk-label label {font-family: monospace;font-weight: bold;display: inline-block;line-height: 1.2em;}#sk-container-id-59 div.sk-label-container {text-align: center;}#sk-container-id-59 div.sk-container {/* jupyter's `normalize.less` sets `[hidden] { display: none; }` but bootstrap.min.css set `[hidden] { display: none !important; }` so we also need the `!important` here to be able to override the default hidden behavior on the sphinx rendered scikit-learn.org. See: https://github.com/scikit-learn/scikit-learn/issues/21755 */display: inline-block !important;position: relative;}#sk-container-id-59 div.sk-text-repr-fallback {display: none;}</style><div id=\"sk-container-id-59\" class=\"sk-top-container\"><div class=\"sk-text-repr-fallback\"><pre>LogisticRegression(max_iter=1000)</pre><b>In a Jupyter environment, please rerun this cell to show the HTML representation or trust the notebook. <br />On GitHub, the HTML representation is unable to render, please try loading this page with nbviewer.org.</b></div><div class=\"sk-container\" hidden><div class=\"sk-item\"><div class=\"sk-estimator sk-toggleable\"><input class=\"sk-toggleable__control sk-hidden--visually\" id=\"sk-estimator-id-69\" type=\"checkbox\" checked><label for=\"sk-estimator-id-69\" class=\"sk-toggleable__label sk-toggleable__label-arrow\">LogisticRegression</label><div class=\"sk-toggleable__content\"><pre>LogisticRegression(max_iter=1000)</pre></div></div></div></div></div>"
      ],
      "text/plain": [
       "LogisticRegression(max_iter=1000)"
      ]
     },
     "execution_count": 923,
     "metadata": {},
     "output_type": "execute_result"
    }
   ],
   "source": [
    "log.fit(X_train_tf, y_train)"
   ]
  },
  {
   "cell_type": "code",
   "execution_count": 924,
   "id": "aa0d7adc-0642-44b2-ba18-864c580d68c9",
   "metadata": {},
   "outputs": [],
   "source": [
    "y_pred = log.predict(X_test_tf)"
   ]
  },
  {
   "cell_type": "code",
   "execution_count": 925,
   "id": "fd62e8aa-bbe2-462c-9ee0-27a6a78353fd",
   "metadata": {},
   "outputs": [
    {
     "data": {
      "text/plain": [
       "0.9572298325722983"
      ]
     },
     "execution_count": 925,
     "metadata": {},
     "output_type": "execute_result"
    }
   ],
   "source": [
    "log.score(X_train_tf, y_train)"
   ]
  },
  {
   "cell_type": "code",
   "execution_count": 926,
   "id": "5127de17-461b-4ea5-98d2-4b95b0217802",
   "metadata": {
    "scrolled": true
   },
   "outputs": [
    {
     "data": {
      "text/plain": [
       "0.928180158247109"
      ]
     },
     "execution_count": 926,
     "metadata": {},
     "output_type": "execute_result"
    }
   ],
   "source": [
    "log.score(X_test_tf, y_test)"
   ]
  },
  {
   "cell_type": "code",
   "execution_count": 927,
   "id": "892756a3-11e2-4e70-b7de-8fdc22e395fd",
   "metadata": {},
   "outputs": [],
   "source": [
    "cm = confusion_matrix(y_test, y_pred, labels=model.classes_)"
   ]
  },
  {
   "cell_type": "code",
   "execution_count": 928,
   "id": "d702c2de-d717-4742-888c-56697a33f067",
   "metadata": {},
   "outputs": [
    {
     "data": {
      "image/png": "[encoded data removed]",
      "text/plain": [
       "<Figure size 640x480 with 2 Axes>"
      ]
     },
     "metadata": {},
     "output_type": "display_data"
    }
   ],
   "source": [
    "disp = ConfusionMatrixDisplay(confusion_matrix=cm, display_labels=model.classes_)\n",
    "disp.plot(cmap=plt.cm.Greens);"
   ]
  },
  {
   "cell_type": "code",
   "execution_count": null,
   "id": "7b85d3a6-29a0-45f2-a40b-95eca8bcee4f",
   "metadata": {},
   "outputs": [],
   "source": []
  },
  {
   "cell_type": "code",
   "execution_count": 832,
   "id": "9310b377-a2a1-422b-8a4f-d0c251c755f5",
   "metadata": {},
   "outputs": [
    {
     "data": {
      "text/plain": [
       "0.928180158247109"
      ]
     },
     "execution_count": 832,
     "metadata": {},
     "output_type": "execute_result"
    }
   ],
   "source": [
    "accuracy = accuracy_score(y_test, y_pred)\n",
    "accuracy"
   ]
  },
  {
   "cell_type": "code",
   "execution_count": 833,
   "id": "d91d21c1-1e36-4651-aa92-84d3471f828d",
   "metadata": {},
   "outputs": [
    {
     "data": {
      "text/plain": [
       "'              precision    recall  f1-score   support\\n\\n     fitness       0.97      0.87      0.91       727\\n   nutrition       0.90      0.98      0.94       916\\n\\n    accuracy                           0.93      1643\\n   macro avg       0.94      0.92      0.93      1643\\nweighted avg       0.93      0.93      0.93      1643\\n'"
      ]
     },
     "execution_count": 833,
     "metadata": {},
     "output_type": "execute_result"
    }
   ],
   "source": [
    "class_rep = classification_report(y_test, y_pred)\n",
    "class_rep"
   ]
  },
  {
   "cell_type": "code",
   "execution_count": 834,
   "id": "a93f537b-ce7c-4187-9732-89d938a2fca7",
   "metadata": {},
   "outputs": [],
   "source": [
    "incorrect_predictions = X_test[y_test != y_pred]\n",
    "incorrect_true_labels = y_test[y_test != y_pred]\n",
    "incorrect_pred_labels = y_pred[y_test != y_pred]"
   ]
  },
  {
   "cell_type": "code",
   "execution_count": 835,
   "id": "82e73176-0220-454b-aa5d-3d979341094f",
   "metadata": {},
   "outputs": [],
   "source": [
    "incorrect_tf = pd.DataFrame({\n",
    "    'Text': incorrect_predictions,\n",
    "    'True Label': incorrect_true_labels,\n",
    "    'Predicted Label': incorrect_pred_labels\n",
    "})"
   ]
  },
  {
   "cell_type": "code",
   "execution_count": 836,
   "id": "3c84324a-cf92-4d6b-bd22-6c5624fe2fac",
   "metadata": {},
   "outputs": [
    {
     "data": {
      "text/html": [
       "<div>\n",
       "<style scoped>\n",
       "    .dataframe tbody tr th:only-of-type {\n",
       "        vertical-align: middle;\n",
       "    }\n",
       "\n",
       "    .dataframe tbody tr th {\n",
       "        vertical-align: top;\n",
       "    }\n",
       "\n",
       "    .dataframe thead th {\n",
       "        text-align: right;\n",
       "    }\n",
       "</style>\n",
       "<table border=\"1\" class=\"dataframe\">\n",
       "  <thead>\n",
       "    <tr style=\"text-align: right;\">\n",
       "      <th></th>\n",
       "      <th>Text</th>\n",
       "      <th>True Label</th>\n",
       "      <th>Predicted Label</th>\n",
       "    </tr>\n",
       "  </thead>\n",
       "  <tbody>\n",
       "    <tr>\n",
       "      <th>2992</th>\n",
       "      <td>squat even performed strict form cause stress ...</td>\n",
       "      <td>fitness</td>\n",
       "      <td>nutrition</td>\n",
       "    </tr>\n",
       "    <tr>\n",
       "      <th>2829</th>\n",
       "      <td>first thing thought morning</td>\n",
       "      <td>fitness</td>\n",
       "      <td>nutrition</td>\n",
       "    </tr>\n",
       "    <tr>\n",
       "      <th>1053</th>\n",
       "      <td>water aerobics good muscle gain body toning</td>\n",
       "      <td>fitness</td>\n",
       "      <td>nutrition</td>\n",
       "    </tr>\n",
       "    <tr>\n",
       "      <th>2970</th>\n",
       "      <td>would call curlbro ama</td>\n",
       "      <td>fitness</td>\n",
       "      <td>nutrition</td>\n",
       "    </tr>\n",
       "    <tr>\n",
       "      <th>2945</th>\n",
       "      <td>stopping wood evening</td>\n",
       "      <td>fitness</td>\n",
       "      <td>nutrition</td>\n",
       "    </tr>\n",
       "    <tr>\n",
       "      <th>2571</th>\n",
       "      <td>tooth health whey protein powder vitamin</td>\n",
       "      <td>fitness</td>\n",
       "      <td>nutrition</td>\n",
       "    </tr>\n",
       "    <tr>\n",
       "      <th>3238</th>\n",
       "      <td>got kidding cnn article stating fat healthy</td>\n",
       "      <td>fitness</td>\n",
       "      <td>nutrition</td>\n",
       "    </tr>\n",
       "    <tr>\n",
       "      <th>730</th>\n",
       "      <td>american heart association encourages focus si...</td>\n",
       "      <td>fitness</td>\n",
       "      <td>nutrition</td>\n",
       "    </tr>\n",
       "    <tr>\n",
       "      <th>239</th>\n",
       "      <td>interested would fititt community chemical ana...</td>\n",
       "      <td>fitness</td>\n",
       "      <td>nutrition</td>\n",
       "    </tr>\n",
       "    <tr>\n",
       "      <th>6011</th>\n",
       "      <td>someone please clarify question creatine</td>\n",
       "      <td>nutrition</td>\n",
       "      <td>fitness</td>\n",
       "    </tr>\n",
       "  </tbody>\n",
       "</table>\n",
       "</div>"
      ],
      "text/plain": [
       "                                                   Text True Label  \\\n",
       "2992  squat even performed strict form cause stress ...    fitness   \n",
       "2829                        first thing thought morning    fitness   \n",
       "1053        water aerobics good muscle gain body toning    fitness   \n",
       "2970                             would call curlbro ama    fitness   \n",
       "2945                              stopping wood evening    fitness   \n",
       "2571           tooth health whey protein powder vitamin    fitness   \n",
       "3238        got kidding cnn article stating fat healthy    fitness   \n",
       "730   american heart association encourages focus si...    fitness   \n",
       "239   interested would fititt community chemical ana...    fitness   \n",
       "6011           someone please clarify question creatine  nutrition   \n",
       "\n",
       "     Predicted Label  \n",
       "2992       nutrition  \n",
       "2829       nutrition  \n",
       "1053       nutrition  \n",
       "2970       nutrition  \n",
       "2945       nutrition  \n",
       "2571       nutrition  \n",
       "3238       nutrition  \n",
       "730        nutrition  \n",
       "239        nutrition  \n",
       "6011         fitness  "
      ]
     },
     "execution_count": 836,
     "metadata": {},
     "output_type": "execute_result"
    }
   ],
   "source": [
    "incorrect_tf.head(10)"
   ]
  },
  {
   "cell_type": "code",
   "execution_count": 837,
   "id": "81c6950c-1324-48a9-83a9-c28ba9249907",
   "metadata": {},
   "outputs": [
    {
     "data": {
      "text/plain": [
       "(118, 3)"
      ]
     },
     "execution_count": 837,
     "metadata": {},
     "output_type": "execute_result"
    }
   ],
   "source": [
    "incorrect_tf.shape"
   ]
  },
  {
   "cell_type": "code",
   "execution_count": 838,
   "id": "b6f92f20-47c1-4a93-aa82-1f6cfe32d786",
   "metadata": {},
   "outputs": [
    {
     "data": {
      "text/html": [
       "<style>#sk-container-id-53 {color: black;background-color: white;}#sk-container-id-53 pre{padding: 0;}#sk-container-id-53 div.sk-toggleable {background-color: white;}#sk-container-id-53 label.sk-toggleable__label {cursor: pointer;display: block;width: 100%;margin-bottom: 0;padding: 0.3em;box-sizing: border-box;text-align: center;}#sk-container-id-53 label.sk-toggleable__label-arrow:before {content: \"▸\";float: left;margin-right: 0.25em;color: #696969;}#sk-container-id-53 label.sk-toggleable__label-arrow:hover:before {color: black;}#sk-container-id-53 div.sk-estimator:hover label.sk-toggleable__label-arrow:before {color: black;}#sk-container-id-53 div.sk-toggleable__content {max-height: 0;max-width: 0;overflow: hidden;text-align: left;background-color: #f0f8ff;}#sk-container-id-53 div.sk-toggleable__content pre {margin: 0.2em;color: black;border-radius: 0.25em;background-color: #f0f8ff;}#sk-container-id-53 input.sk-toggleable__control:checked~div.sk-toggleable__content {max-height: 200px;max-width: 100%;overflow: auto;}#sk-container-id-53 input.sk-toggleable__control:checked~label.sk-toggleable__label-arrow:before {content: \"▾\";}#sk-container-id-53 div.sk-estimator input.sk-toggleable__control:checked~label.sk-toggleable__label {background-color: #d4ebff;}#sk-container-id-53 div.sk-label input.sk-toggleable__control:checked~label.sk-toggleable__label {background-color: #d4ebff;}#sk-container-id-53 input.sk-hidden--visually {border: 0;clip: rect(1px 1px 1px 1px);clip: rect(1px, 1px, 1px, 1px);height: 1px;margin: -1px;overflow: hidden;padding: 0;position: absolute;width: 1px;}#sk-container-id-53 div.sk-estimator {font-family: monospace;background-color: #f0f8ff;border: 1px dotted black;border-radius: 0.25em;box-sizing: border-box;margin-bottom: 0.5em;}#sk-container-id-53 div.sk-estimator:hover {background-color: #d4ebff;}#sk-container-id-53 div.sk-parallel-item::after {content: \"\";width: 100%;border-bottom: 1px solid gray;flex-grow: 1;}#sk-container-id-53 div.sk-label:hover label.sk-toggleable__label {background-color: #d4ebff;}#sk-container-id-53 div.sk-serial::before {content: \"\";position: absolute;border-left: 1px solid gray;box-sizing: border-box;top: 0;bottom: 0;left: 50%;z-index: 0;}#sk-container-id-53 div.sk-serial {display: flex;flex-direction: column;align-items: center;background-color: white;padding-right: 0.2em;padding-left: 0.2em;position: relative;}#sk-container-id-53 div.sk-item {position: relative;z-index: 1;}#sk-container-id-53 div.sk-parallel {display: flex;align-items: stretch;justify-content: center;background-color: white;position: relative;}#sk-container-id-53 div.sk-item::before, #sk-container-id-53 div.sk-parallel-item::before {content: \"\";position: absolute;border-left: 1px solid gray;box-sizing: border-box;top: 0;bottom: 0;left: 50%;z-index: -1;}#sk-container-id-53 div.sk-parallel-item {display: flex;flex-direction: column;z-index: 1;position: relative;background-color: white;}#sk-container-id-53 div.sk-parallel-item:first-child::after {align-self: flex-end;width: 50%;}#sk-container-id-53 div.sk-parallel-item:last-child::after {align-self: flex-start;width: 50%;}#sk-container-id-53 div.sk-parallel-item:only-child::after {width: 0;}#sk-container-id-53 div.sk-dashed-wrapped {border: 1px dashed gray;margin: 0 0.4em 0.5em 0.4em;box-sizing: border-box;padding-bottom: 0.4em;background-color: white;}#sk-container-id-53 div.sk-label label {font-family: monospace;font-weight: bold;display: inline-block;line-height: 1.2em;}#sk-container-id-53 div.sk-label-container {text-align: center;}#sk-container-id-53 div.sk-container {/* jupyter's `normalize.less` sets `[hidden] { display: none; }` but bootstrap.min.css set `[hidden] { display: none !important; }` so we also need the `!important` here to be able to override the default hidden behavior on the sphinx rendered scikit-learn.org. See: https://github.com/scikit-learn/scikit-learn/issues/21755 */display: inline-block !important;position: relative;}#sk-container-id-53 div.sk-text-repr-fallback {display: none;}</style><div id=\"sk-container-id-53\" class=\"sk-top-container\"><div class=\"sk-text-repr-fallback\"><pre>CountVectorizer()</pre><b>In a Jupyter environment, please rerun this cell to show the HTML representation or trust the notebook. <br />On GitHub, the HTML representation is unable to render, please try loading this page with nbviewer.org.</b></div><div class=\"sk-container\" hidden><div class=\"sk-item\"><div class=\"sk-estimator sk-toggleable\"><input class=\"sk-toggleable__control sk-hidden--visually\" id=\"sk-estimator-id-61\" type=\"checkbox\" checked><label for=\"sk-estimator-id-61\" class=\"sk-toggleable__label sk-toggleable__label-arrow\">CountVectorizer</label><div class=\"sk-toggleable__content\"><pre>CountVectorizer()</pre></div></div></div></div></div>"
      ],
      "text/plain": [
       "CountVectorizer()"
      ]
     },
     "execution_count": 838,
     "metadata": {},
     "output_type": "execute_result"
    }
   ],
   "source": [
    "cvec.fit(incorrect_tf['Text'])"
   ]
  },
  {
   "cell_type": "code",
   "execution_count": 839,
   "id": "22b4f13e-d55f-4715-ab84-bfaaf02af0f6",
   "metadata": {},
   "outputs": [],
   "source": [
    "incorrect_tf_cvec = cvec.transform(incorrect_tf['Text'])"
   ]
  },
  {
   "cell_type": "code",
   "execution_count": 840,
   "id": "7eda7e2d-af49-42fb-b813-5114cb00a838",
   "metadata": {},
   "outputs": [],
   "source": [
    "incorrect_tf_transformed = incorrect_tf_cvec.toarray()"
   ]
  },
  {
   "cell_type": "code",
   "execution_count": 841,
   "id": "e4029869-89ec-468d-b964-9b295f04d582",
   "metadata": {},
   "outputs": [],
   "source": [
    "feature_names = cvec.get_feature_names_out()"
   ]
  },
  {
   "cell_type": "code",
   "execution_count": 842,
   "id": "a44adf5c-8d87-4b4e-ba43-7feab2f0b50c",
   "metadata": {},
   "outputs": [],
   "source": [
    "incorrect_tf = pd.DataFrame(incorrect_tf_transformed, columns=feature_names)"
   ]
  },
  {
   "cell_type": "code",
   "execution_count": 843,
   "id": "e2cdba21-1055-464d-a35c-24f49b333b34",
   "metadata": {},
   "outputs": [
    {
     "data": {
      "text/plain": [
       "fat         12\n",
       "calorie     10\n",
       "healthy      9\n",
       "health       8\n",
       "protein      7\n",
       "people       7\n",
       "day          6\n",
       "diet         6\n",
       "body         6\n",
       "food         6\n",
       "good         6\n",
       "help         5\n",
       "get          5\n",
       "eat          5\n",
       "muscle       5\n",
       "much         4\n",
       "question     4\n",
       "would        4\n",
       "exercise     4\n",
       "study        4\n",
       "dtype: int64"
      ]
     },
     "execution_count": 843,
     "metadata": {},
     "output_type": "execute_result"
    }
   ],
   "source": [
    "incorrecttop20tf = incorrect_tf.sum().sort_values(ascending=False).head(20)\n",
    "incorrecttop20tf"
   ]
  },
  {
   "cell_type": "code",
   "execution_count": 844,
   "id": "bfa2a23d-d9f7-4cef-b034-eb4955a5e207",
   "metadata": {},
   "outputs": [
    {
     "data": {
      "image/png": "[encoded data removed]",
      "text/plain": [
       "<Figure size 800x600 with 1 Axes>"
      ]
     },
     "metadata": {},
     "output_type": "display_data"
    }
   ],
   "source": [
    "plt.figure(figsize=(8,6), facecolor='black')\n",
    "ax = plt.axes()\n",
    "plt.barh(incorrecttop20tf.index, incorrecttop20tf, color='black')\n",
    "plt.title('Most Common Tokens Among incorrect Model 2 Predictions', size=18, loc='left', color='#83ff6d')\n",
    "plt.xlabel('Count', size=14, color='#83ff6d')\n",
    "plt.xticks(color='#83ff6d')\n",
    "plt.ylabel('Token', size=14, color='#83ff6d')\n",
    "plt.yticks(color='#83ff6d')\n",
    "plt.savefig('images/incorrect_tokens_2.png', dpi=192);"
   ]
  },
  {
   "cell_type": "code",
   "execution_count": null,
   "id": "44b01303-6ff3-487c-b7b9-01598032f30f",
   "metadata": {},
   "outputs": [],
   "source": []
  },
  {
   "cell_type": "markdown",
   "id": "e4462246-f5e4-4dd2-9f8c-9bdba332a9b5",
   "metadata": {},
   "source": [
    "## Model 3: CVEC with Bigrams & GridSearch"
   ]
  },
  {
   "cell_type": "code",
   "execution_count": 845,
   "id": "6c000f87-9bd8-46f5-a015-1ad343f8436c",
   "metadata": {},
   "outputs": [],
   "source": [
    "X = reddit_posts['processed_title_joined']\n",
    "y = reddit_posts['subreddit']"
   ]
  },
  {
   "cell_type": "code",
   "execution_count": 846,
   "id": "0b322e97-fac4-409a-9a5c-735ce5611c65",
   "metadata": {},
   "outputs": [],
   "source": [
    "X_train, X_test, y_train, y_test = train_test_split(X, y, test_size=0.2, random_state=42)\n"
   ]
  },
  {
   "cell_type": "code",
   "execution_count": 847,
   "id": "335a92f1-a0d2-46c9-a2cd-dc56e05ca9fb",
   "metadata": {},
   "outputs": [],
   "source": [
    "cvec = CountVectorizer(ngram_range=(1, 2), max_features=10000)"
   ]
  },
  {
   "cell_type": "code",
   "execution_count": 848,
   "id": "02475581-51ea-4a45-ba44-d12258104344",
   "metadata": {},
   "outputs": [],
   "source": [
    "X_train_cvec = cvec.fit_transform(X_train)\n",
    "X_test_cvec = cvec.transform(X_test)"
   ]
  },
  {
   "cell_type": "code",
   "execution_count": 849,
   "id": "a9a911f3-dff0-4506-ac86-2e40ac32fbd9",
   "metadata": {},
   "outputs": [
    {
     "data": {
      "text/html": [
       "<style>#sk-container-id-54 {color: black;background-color: white;}#sk-container-id-54 pre{padding: 0;}#sk-container-id-54 div.sk-toggleable {background-color: white;}#sk-container-id-54 label.sk-toggleable__label {cursor: pointer;display: block;width: 100%;margin-bottom: 0;padding: 0.3em;box-sizing: border-box;text-align: center;}#sk-container-id-54 label.sk-toggleable__label-arrow:before {content: \"▸\";float: left;margin-right: 0.25em;color: #696969;}#sk-container-id-54 label.sk-toggleable__label-arrow:hover:before {color: black;}#sk-container-id-54 div.sk-estimator:hover label.sk-toggleable__label-arrow:before {color: black;}#sk-container-id-54 div.sk-toggleable__content {max-height: 0;max-width: 0;overflow: hidden;text-align: left;background-color: #f0f8ff;}#sk-container-id-54 div.sk-toggleable__content pre {margin: 0.2em;color: black;border-radius: 0.25em;background-color: #f0f8ff;}#sk-container-id-54 input.sk-toggleable__control:checked~div.sk-toggleable__content {max-height: 200px;max-width: 100%;overflow: auto;}#sk-container-id-54 input.sk-toggleable__control:checked~label.sk-toggleable__label-arrow:before {content: \"▾\";}#sk-container-id-54 div.sk-estimator input.sk-toggleable__control:checked~label.sk-toggleable__label {background-color: #d4ebff;}#sk-container-id-54 div.sk-label input.sk-toggleable__control:checked~label.sk-toggleable__label {background-color: #d4ebff;}#sk-container-id-54 input.sk-hidden--visually {border: 0;clip: rect(1px 1px 1px 1px);clip: rect(1px, 1px, 1px, 1px);height: 1px;margin: -1px;overflow: hidden;padding: 0;position: absolute;width: 1px;}#sk-container-id-54 div.sk-estimator {font-family: monospace;background-color: #f0f8ff;border: 1px dotted black;border-radius: 0.25em;box-sizing: border-box;margin-bottom: 0.5em;}#sk-container-id-54 div.sk-estimator:hover {background-color: #d4ebff;}#sk-container-id-54 div.sk-parallel-item::after {content: \"\";width: 100%;border-bottom: 1px solid gray;flex-grow: 1;}#sk-container-id-54 div.sk-label:hover label.sk-toggleable__label {background-color: #d4ebff;}#sk-container-id-54 div.sk-serial::before {content: \"\";position: absolute;border-left: 1px solid gray;box-sizing: border-box;top: 0;bottom: 0;left: 50%;z-index: 0;}#sk-container-id-54 div.sk-serial {display: flex;flex-direction: column;align-items: center;background-color: white;padding-right: 0.2em;padding-left: 0.2em;position: relative;}#sk-container-id-54 div.sk-item {position: relative;z-index: 1;}#sk-container-id-54 div.sk-parallel {display: flex;align-items: stretch;justify-content: center;background-color: white;position: relative;}#sk-container-id-54 div.sk-item::before, #sk-container-id-54 div.sk-parallel-item::before {content: \"\";position: absolute;border-left: 1px solid gray;box-sizing: border-box;top: 0;bottom: 0;left: 50%;z-index: -1;}#sk-container-id-54 div.sk-parallel-item {display: flex;flex-direction: column;z-index: 1;position: relative;background-color: white;}#sk-container-id-54 div.sk-parallel-item:first-child::after {align-self: flex-end;width: 50%;}#sk-container-id-54 div.sk-parallel-item:last-child::after {align-self: flex-start;width: 50%;}#sk-container-id-54 div.sk-parallel-item:only-child::after {width: 0;}#sk-container-id-54 div.sk-dashed-wrapped {border: 1px dashed gray;margin: 0 0.4em 0.5em 0.4em;box-sizing: border-box;padding-bottom: 0.4em;background-color: white;}#sk-container-id-54 div.sk-label label {font-family: monospace;font-weight: bold;display: inline-block;line-height: 1.2em;}#sk-container-id-54 div.sk-label-container {text-align: center;}#sk-container-id-54 div.sk-container {/* jupyter's `normalize.less` sets `[hidden] { display: none; }` but bootstrap.min.css set `[hidden] { display: none !important; }` so we also need the `!important` here to be able to override the default hidden behavior on the sphinx rendered scikit-learn.org. See: https://github.com/scikit-learn/scikit-learn/issues/21755 */display: inline-block !important;position: relative;}#sk-container-id-54 div.sk-text-repr-fallback {display: none;}</style><div id=\"sk-container-id-54\" class=\"sk-top-container\"><div class=\"sk-text-repr-fallback\"><pre>GridSearchCV(cv=5, estimator=LogisticRegression(max_iter=1000), n_jobs=8,\n",
       "             param_grid={&#x27;C&#x27;: [0.01, 0.1, 1, 10, 100]})</pre><b>In a Jupyter environment, please rerun this cell to show the HTML representation or trust the notebook. <br />On GitHub, the HTML representation is unable to render, please try loading this page with nbviewer.org.</b></div><div class=\"sk-container\" hidden><div class=\"sk-item sk-dashed-wrapped\"><div class=\"sk-label-container\"><div class=\"sk-label sk-toggleable\"><input class=\"sk-toggleable__control sk-hidden--visually\" id=\"sk-estimator-id-62\" type=\"checkbox\" ><label for=\"sk-estimator-id-62\" class=\"sk-toggleable__label sk-toggleable__label-arrow\">GridSearchCV</label><div class=\"sk-toggleable__content\"><pre>GridSearchCV(cv=5, estimator=LogisticRegression(max_iter=1000), n_jobs=8,\n",
       "             param_grid={&#x27;C&#x27;: [0.01, 0.1, 1, 10, 100]})</pre></div></div></div><div class=\"sk-parallel\"><div class=\"sk-parallel-item\"><div class=\"sk-item\"><div class=\"sk-label-container\"><div class=\"sk-label sk-toggleable\"><input class=\"sk-toggleable__control sk-hidden--visually\" id=\"sk-estimator-id-63\" type=\"checkbox\" ><label for=\"sk-estimator-id-63\" class=\"sk-toggleable__label sk-toggleable__label-arrow\">estimator: LogisticRegression</label><div class=\"sk-toggleable__content\"><pre>LogisticRegression(max_iter=1000)</pre></div></div></div><div class=\"sk-serial\"><div class=\"sk-item\"><div class=\"sk-estimator sk-toggleable\"><input class=\"sk-toggleable__control sk-hidden--visually\" id=\"sk-estimator-id-64\" type=\"checkbox\" ><label for=\"sk-estimator-id-64\" class=\"sk-toggleable__label sk-toggleable__label-arrow\">LogisticRegression</label><div class=\"sk-toggleable__content\"><pre>LogisticRegression(max_iter=1000)</pre></div></div></div></div></div></div></div></div></div></div>"
      ],
      "text/plain": [
       "GridSearchCV(cv=5, estimator=LogisticRegression(max_iter=1000), n_jobs=8,\n",
       "             param_grid={'C': [0.01, 0.1, 1, 10, 100]})"
      ]
     },
     "execution_count": 849,
     "metadata": {},
     "output_type": "execute_result"
    }
   ],
   "source": [
    "param_grid = {'C': [0.01, 0.1, 1, 10, 100]}\n",
    "grid = GridSearchCV(LogisticRegression(max_iter=1000), param_grid, cv=5, n_jobs=8)\n",
    "grid.fit(X_train_cvec, y_train)"
   ]
  },
  {
   "cell_type": "code",
   "execution_count": 850,
   "id": "c8d80675-f03c-4098-85f0-4a53cd30e277",
   "metadata": {},
   "outputs": [],
   "source": [
    "best_model = grid.best_estimator_"
   ]
  },
  {
   "cell_type": "code",
   "execution_count": 851,
   "id": "632c3230-8356-4ec2-be4f-aa0b08edde1a",
   "metadata": {},
   "outputs": [],
   "source": [
    "y_pred = best_model.predict(X_test_cvec)"
   ]
  },
  {
   "cell_type": "code",
   "execution_count": 852,
   "id": "a9461bc8-6d83-43c6-9493-2b0bf93b5e00",
   "metadata": {},
   "outputs": [
    {
     "data": {
      "text/plain": [
       "0.9951293759512938"
      ]
     },
     "execution_count": 852,
     "metadata": {},
     "output_type": "execute_result"
    }
   ],
   "source": [
    "best_model.score(X_train_cvec, y_train)"
   ]
  },
  {
   "cell_type": "code",
   "execution_count": 853,
   "id": "262e4963-a54b-455c-89b8-21aaf911b91f",
   "metadata": {},
   "outputs": [
    {
     "data": {
      "text/plain": [
       "0.938527084601339"
      ]
     },
     "execution_count": 853,
     "metadata": {},
     "output_type": "execute_result"
    }
   ],
   "source": [
    "best_model.score(X_test_cvec, y_test)"
   ]
  },
  {
   "cell_type": "code",
   "execution_count": 854,
   "id": "8db91e76-fcd2-420d-a2bc-8a2d93166a57",
   "metadata": {},
   "outputs": [],
   "source": [
    "cm = confusion_matrix(y_test, y_pred, labels=best_model.classes_)"
   ]
  },
  {
   "cell_type": "code",
   "execution_count": 855,
   "id": "c891e354-9592-44a4-ad8b-3aa2f1933e37",
   "metadata": {},
   "outputs": [
    {
     "data": {
      "image/png": "[encoded data removed]",
      "text/plain": [
       "<Figure size 640x480 with 2 Axes>"
      ]
     },
     "metadata": {},
     "output_type": "display_data"
    }
   ],
   "source": [
    "disp = ConfusionMatrixDisplay(confusion_matrix=cm, display_labels=best_model.classes_)\n",
    "disp.plot(cmap=plt.cm.Greens);"
   ]
  },
  {
   "cell_type": "code",
   "execution_count": 856,
   "id": "d6256c1f-beea-41fa-a14e-1785ca690750",
   "metadata": {},
   "outputs": [
    {
     "data": {
      "text/plain": [
       "0.938527084601339"
      ]
     },
     "execution_count": 856,
     "metadata": {},
     "output_type": "execute_result"
    }
   ],
   "source": [
    "accuracy = accuracy_score(y_test, y_pred)\n",
    "accuracy"
   ]
  },
  {
   "cell_type": "code",
   "execution_count": 857,
   "id": "87b9c11f-dfb8-4f27-a434-1ef62a8efa7d",
   "metadata": {},
   "outputs": [
    {
     "data": {
      "text/plain": [
       "'              precision    recall  f1-score   support\\n\\n     fitness       0.94      0.92      0.93       727\\n   nutrition       0.93      0.96      0.95       916\\n\\n    accuracy                           0.94      1643\\n   macro avg       0.94      0.94      0.94      1643\\nweighted avg       0.94      0.94      0.94      1643\\n'"
      ]
     },
     "execution_count": 857,
     "metadata": {},
     "output_type": "execute_result"
    }
   ],
   "source": [
    "class_rep = classification_report(y_test, y_pred)\n",
    "class_rep"
   ]
  },
  {
   "cell_type": "code",
   "execution_count": 858,
   "id": "7df4c1a8-4c56-4593-b029-2e33b8b0c394",
   "metadata": {},
   "outputs": [],
   "source": [
    "incorrect_predictions = X_test[y_test != y_pred]\n",
    "incorrect_true_labels = y_test[y_test != y_pred]\n",
    "incorrect_pred_labels = y_pred[y_test != y_pred]"
   ]
  },
  {
   "cell_type": "code",
   "execution_count": 859,
   "id": "f9d856d5-5c75-4282-bc75-48b1f48daab6",
   "metadata": {},
   "outputs": [],
   "source": [
    "incorrect_bi = pd.DataFrame({\n",
    "    'Text': incorrect_predictions,\n",
    "    'True Label': incorrect_true_labels,\n",
    "    'Predicted Label': incorrect_pred_labels\n",
    "})"
   ]
  },
  {
   "cell_type": "code",
   "execution_count": 860,
   "id": "151cc019-3656-4950-94ba-9dbe79e2ea7f",
   "metadata": {},
   "outputs": [
    {
     "data": {
      "text/html": [
       "<div>\n",
       "<style scoped>\n",
       "    .dataframe tbody tr th:only-of-type {\n",
       "        vertical-align: middle;\n",
       "    }\n",
       "\n",
       "    .dataframe tbody tr th {\n",
       "        vertical-align: top;\n",
       "    }\n",
       "\n",
       "    .dataframe thead th {\n",
       "        text-align: right;\n",
       "    }\n",
       "</style>\n",
       "<table border=\"1\" class=\"dataframe\">\n",
       "  <thead>\n",
       "    <tr style=\"text-align: right;\">\n",
       "      <th></th>\n",
       "      <th>Text</th>\n",
       "      <th>True Label</th>\n",
       "      <th>Predicted Label</th>\n",
       "    </tr>\n",
       "  </thead>\n",
       "  <tbody>\n",
       "    <tr>\n",
       "      <th>4405</th>\n",
       "      <td>sub update addressing misinformation</td>\n",
       "      <td>nutrition</td>\n",
       "      <td>fitness</td>\n",
       "    </tr>\n",
       "    <tr>\n",
       "      <th>4270</th>\n",
       "      <td>important exercise compared diet</td>\n",
       "      <td>nutrition</td>\n",
       "      <td>fitness</td>\n",
       "    </tr>\n",
       "    <tr>\n",
       "      <th>7277</th>\n",
       "      <td>lot look older weaker</td>\n",
       "      <td>nutrition</td>\n",
       "      <td>fitness</td>\n",
       "    </tr>\n",
       "    <tr>\n",
       "      <th>2829</th>\n",
       "      <td>first thing thought morning</td>\n",
       "      <td>fitness</td>\n",
       "      <td>nutrition</td>\n",
       "    </tr>\n",
       "    <tr>\n",
       "      <th>4535</th>\n",
       "      <td>better eating great diet getting much exercise...</td>\n",
       "      <td>nutrition</td>\n",
       "      <td>fitness</td>\n",
       "    </tr>\n",
       "    <tr>\n",
       "      <th>6911</th>\n",
       "      <td>low carb diet week result</td>\n",
       "      <td>nutrition</td>\n",
       "      <td>fitness</td>\n",
       "    </tr>\n",
       "    <tr>\n",
       "      <th>2945</th>\n",
       "      <td>stopping wood evening</td>\n",
       "      <td>fitness</td>\n",
       "      <td>nutrition</td>\n",
       "    </tr>\n",
       "    <tr>\n",
       "      <th>2571</th>\n",
       "      <td>tooth health whey protein powder vitamin</td>\n",
       "      <td>fitness</td>\n",
       "      <td>nutrition</td>\n",
       "    </tr>\n",
       "    <tr>\n",
       "      <th>3238</th>\n",
       "      <td>got kidding cnn article stating fat healthy</td>\n",
       "      <td>fitness</td>\n",
       "      <td>nutrition</td>\n",
       "    </tr>\n",
       "    <tr>\n",
       "      <th>239</th>\n",
       "      <td>interested would fititt community chemical ana...</td>\n",
       "      <td>fitness</td>\n",
       "      <td>nutrition</td>\n",
       "    </tr>\n",
       "  </tbody>\n",
       "</table>\n",
       "</div>"
      ],
      "text/plain": [
       "                                                   Text True Label  \\\n",
       "4405               sub update addressing misinformation  nutrition   \n",
       "4270                   important exercise compared diet  nutrition   \n",
       "7277                              lot look older weaker  nutrition   \n",
       "2829                        first thing thought morning    fitness   \n",
       "4535  better eating great diet getting much exercise...  nutrition   \n",
       "6911                          low carb diet week result  nutrition   \n",
       "2945                              stopping wood evening    fitness   \n",
       "2571           tooth health whey protein powder vitamin    fitness   \n",
       "3238        got kidding cnn article stating fat healthy    fitness   \n",
       "239   interested would fititt community chemical ana...    fitness   \n",
       "\n",
       "     Predicted Label  \n",
       "4405         fitness  \n",
       "4270         fitness  \n",
       "7277         fitness  \n",
       "2829       nutrition  \n",
       "4535         fitness  \n",
       "6911         fitness  \n",
       "2945       nutrition  \n",
       "2571       nutrition  \n",
       "3238       nutrition  \n",
       "239        nutrition  "
      ]
     },
     "execution_count": 860,
     "metadata": {},
     "output_type": "execute_result"
    }
   ],
   "source": [
    "incorrect_bi.head(10)"
   ]
  },
  {
   "cell_type": "code",
   "execution_count": 861,
   "id": "8c9e776b-c371-4cde-923c-a6736de946ba",
   "metadata": {},
   "outputs": [
    {
     "data": {
      "text/html": [
       "<style>#sk-container-id-55 {color: black;background-color: white;}#sk-container-id-55 pre{padding: 0;}#sk-container-id-55 div.sk-toggleable {background-color: white;}#sk-container-id-55 label.sk-toggleable__label {cursor: pointer;display: block;width: 100%;margin-bottom: 0;padding: 0.3em;box-sizing: border-box;text-align: center;}#sk-container-id-55 label.sk-toggleable__label-arrow:before {content: \"▸\";float: left;margin-right: 0.25em;color: #696969;}#sk-container-id-55 label.sk-toggleable__label-arrow:hover:before {color: black;}#sk-container-id-55 div.sk-estimator:hover label.sk-toggleable__label-arrow:before {color: black;}#sk-container-id-55 div.sk-toggleable__content {max-height: 0;max-width: 0;overflow: hidden;text-align: left;background-color: #f0f8ff;}#sk-container-id-55 div.sk-toggleable__content pre {margin: 0.2em;color: black;border-radius: 0.25em;background-color: #f0f8ff;}#sk-container-id-55 input.sk-toggleable__control:checked~div.sk-toggleable__content {max-height: 200px;max-width: 100%;overflow: auto;}#sk-container-id-55 input.sk-toggleable__control:checked~label.sk-toggleable__label-arrow:before {content: \"▾\";}#sk-container-id-55 div.sk-estimator input.sk-toggleable__control:checked~label.sk-toggleable__label {background-color: #d4ebff;}#sk-container-id-55 div.sk-label input.sk-toggleable__control:checked~label.sk-toggleable__label {background-color: #d4ebff;}#sk-container-id-55 input.sk-hidden--visually {border: 0;clip: rect(1px 1px 1px 1px);clip: rect(1px, 1px, 1px, 1px);height: 1px;margin: -1px;overflow: hidden;padding: 0;position: absolute;width: 1px;}#sk-container-id-55 div.sk-estimator {font-family: monospace;background-color: #f0f8ff;border: 1px dotted black;border-radius: 0.25em;box-sizing: border-box;margin-bottom: 0.5em;}#sk-container-id-55 div.sk-estimator:hover {background-color: #d4ebff;}#sk-container-id-55 div.sk-parallel-item::after {content: \"\";width: 100%;border-bottom: 1px solid gray;flex-grow: 1;}#sk-container-id-55 div.sk-label:hover label.sk-toggleable__label {background-color: #d4ebff;}#sk-container-id-55 div.sk-serial::before {content: \"\";position: absolute;border-left: 1px solid gray;box-sizing: border-box;top: 0;bottom: 0;left: 50%;z-index: 0;}#sk-container-id-55 div.sk-serial {display: flex;flex-direction: column;align-items: center;background-color: white;padding-right: 0.2em;padding-left: 0.2em;position: relative;}#sk-container-id-55 div.sk-item {position: relative;z-index: 1;}#sk-container-id-55 div.sk-parallel {display: flex;align-items: stretch;justify-content: center;background-color: white;position: relative;}#sk-container-id-55 div.sk-item::before, #sk-container-id-55 div.sk-parallel-item::before {content: \"\";position: absolute;border-left: 1px solid gray;box-sizing: border-box;top: 0;bottom: 0;left: 50%;z-index: -1;}#sk-container-id-55 div.sk-parallel-item {display: flex;flex-direction: column;z-index: 1;position: relative;background-color: white;}#sk-container-id-55 div.sk-parallel-item:first-child::after {align-self: flex-end;width: 50%;}#sk-container-id-55 div.sk-parallel-item:last-child::after {align-self: flex-start;width: 50%;}#sk-container-id-55 div.sk-parallel-item:only-child::after {width: 0;}#sk-container-id-55 div.sk-dashed-wrapped {border: 1px dashed gray;margin: 0 0.4em 0.5em 0.4em;box-sizing: border-box;padding-bottom: 0.4em;background-color: white;}#sk-container-id-55 div.sk-label label {font-family: monospace;font-weight: bold;display: inline-block;line-height: 1.2em;}#sk-container-id-55 div.sk-label-container {text-align: center;}#sk-container-id-55 div.sk-container {/* jupyter's `normalize.less` sets `[hidden] { display: none; }` but bootstrap.min.css set `[hidden] { display: none !important; }` so we also need the `!important` here to be able to override the default hidden behavior on the sphinx rendered scikit-learn.org. See: https://github.com/scikit-learn/scikit-learn/issues/21755 */display: inline-block !important;position: relative;}#sk-container-id-55 div.sk-text-repr-fallback {display: none;}</style><div id=\"sk-container-id-55\" class=\"sk-top-container\"><div class=\"sk-text-repr-fallback\"><pre>CountVectorizer(max_features=10000, ngram_range=(1, 2))</pre><b>In a Jupyter environment, please rerun this cell to show the HTML representation or trust the notebook. <br />On GitHub, the HTML representation is unable to render, please try loading this page with nbviewer.org.</b></div><div class=\"sk-container\" hidden><div class=\"sk-item\"><div class=\"sk-estimator sk-toggleable\"><input class=\"sk-toggleable__control sk-hidden--visually\" id=\"sk-estimator-id-65\" type=\"checkbox\" checked><label for=\"sk-estimator-id-65\" class=\"sk-toggleable__label sk-toggleable__label-arrow\">CountVectorizer</label><div class=\"sk-toggleable__content\"><pre>CountVectorizer(max_features=10000, ngram_range=(1, 2))</pre></div></div></div></div></div>"
      ],
      "text/plain": [
       "CountVectorizer(max_features=10000, ngram_range=(1, 2))"
      ]
     },
     "execution_count": 861,
     "metadata": {},
     "output_type": "execute_result"
    }
   ],
   "source": [
    "cvec.fit(incorrect_bi['Text'])"
   ]
  },
  {
   "cell_type": "code",
   "execution_count": 862,
   "id": "1a34e74d-dd11-4cea-b501-9bfa3c76dfdc",
   "metadata": {},
   "outputs": [],
   "source": [
    "incorrect_bi_cvec = cvec.transform(incorrect_bi['Text'])"
   ]
  },
  {
   "cell_type": "code",
   "execution_count": 863,
   "id": "2941e95b-2036-4e9c-8966-3c70187c0e38",
   "metadata": {},
   "outputs": [],
   "source": [
    "incorrect_bi_transformed = incorrect_bi_cvec.toarray()"
   ]
  },
  {
   "cell_type": "code",
   "execution_count": 864,
   "id": "61211762-5998-44d2-89b0-1cdab7c35e75",
   "metadata": {},
   "outputs": [],
   "source": [
    "feature_names = cvec.get_feature_names_out()"
   ]
  },
  {
   "cell_type": "code",
   "execution_count": 865,
   "id": "e6302126-1424-4449-b970-4585e879e360",
   "metadata": {},
   "outputs": [],
   "source": [
    "incorrect_bi_df = pd.DataFrame(incorrect_bi_transformed, columns=feature_names)"
   ]
  },
  {
   "cell_type": "code",
   "execution_count": 866,
   "id": "75e822b1-1f3f-4eae-ad9f-d9bce41d10a0",
   "metadata": {},
   "outputs": [
    {
     "data": {
      "text/plain": [
       "fat         10\n",
       "diet         9\n",
       "healthy      8\n",
       "calorie      8\n",
       "protein      7\n",
       "muscle       6\n",
       "health       6\n",
       "food         6\n",
       "eat          5\n",
       "get          5\n",
       "good         5\n",
       "eating       5\n",
       "exercise     5\n",
       "week         5\n",
       "day          5\n",
       "study        4\n",
       "people       4\n",
       "help         4\n",
       "body         4\n",
       "much         4\n",
       "dtype: int64"
      ]
     },
     "execution_count": 866,
     "metadata": {},
     "output_type": "execute_result"
    }
   ],
   "source": [
    "incorrecttop20bi = incorrect_bi_df.sum().sort_values(ascending=False).head(20)\n",
    "incorrecttop20bi"
   ]
  },
  {
   "cell_type": "code",
   "execution_count": 867,
   "id": "02f4b42d-aeb4-4073-b15c-f41504d1809d",
   "metadata": {},
   "outputs": [
    {
     "data": {
      "image/png": "[encoded data removed]",
      "text/plain": [
       "<Figure size 800x600 with 1 Axes>"
      ]
     },
     "metadata": {},
     "output_type": "display_data"
    }
   ],
   "source": [
    "plt.figure(figsize=(8,6), facecolor='black')\n",
    "ax = plt.axes()\n",
    "plt.barh(incorrecttop20bi.index, incorrecttop20bi, color='black')\n",
    "plt.title('Model 3 Most Common Incorrect Tokens', size=18, loc='left', color='#83ff6d')\n",
    "plt.xlabel('Count', size=14, color='#83ff6d')\n",
    "plt.xticks(color='#83ff6d')\n",
    "plt.ylabel('Token', size=14, color='#83ff6d')\n",
    "plt.yticks(color='#83ff6d')\n",
    "plt.savefig('images/incorrect_tokens_3.png', dpi=192);"
   ]
  },
  {
   "cell_type": "code",
   "execution_count": 929,
   "id": "c1db1452-668d-4af1-9818-03d1c31520ec",
   "metadata": {},
   "outputs": [],
   "source": [
    "reddit_posts.to_csv('Data/reddit_posts_tokenized.csv', index=False)"
   ]
  },
  {
   "cell_type": "code",
   "execution_count": null,
   "id": "b57fd5c8-655d-45ba-97cd-dc67465fb913",
   "metadata": {},
   "outputs": [],
   "source": []
  }
 ],
 "metadata": {
  "kernelspec": {
   "display_name": "Python 3 (ipykernel)",
   "language": "python",
   "name": "python3"
  },
  "language_info": {
   "codemirror_mode": {
    "name": "ipython",
    "version": 3
   },
   "file_extension": ".py",
   "mimetype": "text/x-python",
   "name": "python",
   "nbconvert_exporter": "python",
   "pygments_lexer": "ipython3",
   "version": "3.11.7"
  }
 },
 "nbformat": 4,
 "nbformat_minor": 5
}
